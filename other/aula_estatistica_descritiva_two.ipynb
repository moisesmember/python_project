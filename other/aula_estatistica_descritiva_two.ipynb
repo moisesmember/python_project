{
 "cells": [
  {
   "cell_type": "code",
   "execution_count": 2,
   "metadata": {},
   "outputs": [],
   "source": [
    "import pandas as pd\n",
    "from prettytable import PrettyTable"
   ]
  },
  {
   "cell_type": "code",
   "execution_count": 3,
   "metadata": {},
   "outputs": [],
   "source": [
    "data_suicidio = pd.read_csv('/home/hadoop/dataset/suicidio_1985_2016.csv');"
   ]
  },
  {
   "cell_type": "markdown",
   "metadata": {},
   "source": [
    "<h2>Carregamento de Dados</h2"
   ]
  },
  {
   "cell_type": "code",
   "execution_count": 4,
   "metadata": {},
   "outputs": [],
   "source": [
    "# data_brazil = data_suicidio.loc[data_suicidio['country'] == 'Brazil'] # opção 1\n",
    "data_brazil = data_suicidio[data_suicidio.country.isin(['Brazil'])] # Filtra só no Brazil\n",
    "\n",
    "data_brazil_sex = data_brazil[data_brazil.sex.isin(['male'])]\n",
    "data_brazil_age = data_brazil_sex[data_brazil_sex.age.isin(['15-24 years'])]\n",
    "\n",
    "data_brazil_sex_female = data_brazil[data_brazil.sex.isin(['female'])]\n",
    "data_brazil_age_female = data_brazil_sex_female[data_brazil_sex_female.age.isin(['15-24 years'])]"
   ]
  },
  {
   "cell_type": "code",
   "execution_count": 5,
   "metadata": {},
   "outputs": [
    {
     "data": {
      "text/plain": [
       "country               372\n",
       "year                  372\n",
       "sex                   372\n",
       "age                   372\n",
       "suicides_no           372\n",
       "population            372\n",
       "suicides/100k pop     372\n",
       "country-year          372\n",
       "HDI for year          120\n",
       " gdp_for_year ($)     372\n",
       "gdp_per_capita ($)    372\n",
       "generation            372\n",
       "dtype: int64"
      ]
     },
     "execution_count": 5,
     "metadata": {},
     "output_type": "execute_result"
    }
   ],
   "source": [
    "data_brazil.count() # Mostra quantidade de registros por coluna"
   ]
  },
  {
   "cell_type": "code",
   "execution_count": 6,
   "metadata": {},
   "outputs": [
    {
     "data": {
      "text/html": [
       "<div>\n",
       "<style scoped>\n",
       "    .dataframe tbody tr th:only-of-type {\n",
       "        vertical-align: middle;\n",
       "    }\n",
       "\n",
       "    .dataframe tbody tr th {\n",
       "        vertical-align: top;\n",
       "    }\n",
       "\n",
       "    .dataframe thead th {\n",
       "        text-align: right;\n",
       "    }\n",
       "</style>\n",
       "<table border=\"1\" class=\"dataframe\">\n",
       "  <thead>\n",
       "    <tr style=\"text-align: right;\">\n",
       "      <th></th>\n",
       "      <th>tipos</th>\n",
       "      <th>missing</th>\n",
       "    </tr>\n",
       "  </thead>\n",
       "  <tbody>\n",
       "    <tr>\n",
       "      <th>country</th>\n",
       "      <td>object</td>\n",
       "      <td>0</td>\n",
       "    </tr>\n",
       "    <tr>\n",
       "      <th>year</th>\n",
       "      <td>int64</td>\n",
       "      <td>0</td>\n",
       "    </tr>\n",
       "    <tr>\n",
       "      <th>sex</th>\n",
       "      <td>object</td>\n",
       "      <td>0</td>\n",
       "    </tr>\n",
       "    <tr>\n",
       "      <th>age</th>\n",
       "      <td>object</td>\n",
       "      <td>0</td>\n",
       "    </tr>\n",
       "    <tr>\n",
       "      <th>suicides_no</th>\n",
       "      <td>int64</td>\n",
       "      <td>0</td>\n",
       "    </tr>\n",
       "    <tr>\n",
       "      <th>population</th>\n",
       "      <td>int64</td>\n",
       "      <td>0</td>\n",
       "    </tr>\n",
       "    <tr>\n",
       "      <th>suicides/100k pop</th>\n",
       "      <td>float64</td>\n",
       "      <td>0</td>\n",
       "    </tr>\n",
       "    <tr>\n",
       "      <th>country-year</th>\n",
       "      <td>object</td>\n",
       "      <td>0</td>\n",
       "    </tr>\n",
       "    <tr>\n",
       "      <th>HDI for year</th>\n",
       "      <td>float64</td>\n",
       "      <td>252</td>\n",
       "    </tr>\n",
       "    <tr>\n",
       "      <th>gdp_for_year ($)</th>\n",
       "      <td>object</td>\n",
       "      <td>0</td>\n",
       "    </tr>\n",
       "    <tr>\n",
       "      <th>gdp_per_capita ($)</th>\n",
       "      <td>int64</td>\n",
       "      <td>0</td>\n",
       "    </tr>\n",
       "    <tr>\n",
       "      <th>generation</th>\n",
       "      <td>object</td>\n",
       "      <td>0</td>\n",
       "    </tr>\n",
       "  </tbody>\n",
       "</table>\n",
       "</div>"
      ],
      "text/plain": [
       "                      tipos  missing\n",
       "country              object        0\n",
       "year                  int64        0\n",
       "sex                  object        0\n",
       "age                  object        0\n",
       "suicides_no           int64        0\n",
       "population            int64        0\n",
       "suicides/100k pop   float64        0\n",
       "country-year         object        0\n",
       "HDI for year        float64      252\n",
       " gdp_for_year ($)    object        0\n",
       "gdp_per_capita ($)    int64        0\n",
       "generation           object        0"
      ]
     },
     "execution_count": 6,
     "metadata": {},
     "output_type": "execute_result"
    }
   ],
   "source": [
    "pd.DataFrame({'tipos':data_brazil.dtypes, 'missing':data_brazil.isna().sum()}) # verifica valores nulos por coluna"
   ]
  },
  {
   "cell_type": "code",
   "execution_count": 7,
   "metadata": {},
   "outputs": [],
   "source": [
    "# criei dataframe com as duas informações que vou trabalhar\n",
    "dataset_work_male = data_brazil_age[['year','suicides_no']] \n",
    "dataset_work_female = data_brazil_age_female[['year','suicides_no']] "
   ]
  },
  {
   "cell_type": "code",
   "execution_count": 8,
   "metadata": {},
   "outputs": [
    {
     "name": "stdout",
     "output_type": "stream",
     "text": [
      "Tamanho dataset masculino:  62\n",
      "Tamanho dataset feminino:  62\n"
     ]
    }
   ],
   "source": [
    "print('Tamanho dataset masculino: ',dataset_work_male.size) # tamanho do dataset\n",
    "print('Tamanho dataset feminino: ',dataset_work_female.size)"
   ]
  },
  {
   "cell_type": "code",
   "execution_count": 9,
   "metadata": {},
   "outputs": [
    {
     "data": {
      "text/html": [
       "<div>\n",
       "<style scoped>\n",
       "    .dataframe tbody tr th:only-of-type {\n",
       "        vertical-align: middle;\n",
       "    }\n",
       "\n",
       "    .dataframe tbody tr th {\n",
       "        vertical-align: top;\n",
       "    }\n",
       "\n",
       "    .dataframe thead th {\n",
       "        text-align: right;\n",
       "    }\n",
       "</style>\n",
       "<table border=\"1\" class=\"dataframe\">\n",
       "  <thead>\n",
       "    <tr style=\"text-align: right;\">\n",
       "      <th></th>\n",
       "      <th>suicides_no</th>\n",
       "    </tr>\n",
       "    <tr>\n",
       "      <th>year</th>\n",
       "      <th></th>\n",
       "    </tr>\n",
       "  </thead>\n",
       "  <tbody>\n",
       "    <tr>\n",
       "      <th>1985</th>\n",
       "      <td>280</td>\n",
       "    </tr>\n",
       "    <tr>\n",
       "      <th>1986</th>\n",
       "      <td>331</td>\n",
       "    </tr>\n",
       "    <tr>\n",
       "      <th>1987</th>\n",
       "      <td>291</td>\n",
       "    </tr>\n",
       "    <tr>\n",
       "      <th>1988</th>\n",
       "      <td>281</td>\n",
       "    </tr>\n",
       "    <tr>\n",
       "      <th>1989</th>\n",
       "      <td>261</td>\n",
       "    </tr>\n",
       "    <tr>\n",
       "      <th>1990</th>\n",
       "      <td>304</td>\n",
       "    </tr>\n",
       "    <tr>\n",
       "      <th>1991</th>\n",
       "      <td>303</td>\n",
       "    </tr>\n",
       "    <tr>\n",
       "      <th>1992</th>\n",
       "      <td>283</td>\n",
       "    </tr>\n",
       "    <tr>\n",
       "      <th>1993</th>\n",
       "      <td>334</td>\n",
       "    </tr>\n",
       "    <tr>\n",
       "      <th>1994</th>\n",
       "      <td>372</td>\n",
       "    </tr>\n",
       "    <tr>\n",
       "      <th>1995</th>\n",
       "      <td>347</td>\n",
       "    </tr>\n",
       "    <tr>\n",
       "      <th>1996</th>\n",
       "      <td>347</td>\n",
       "    </tr>\n",
       "    <tr>\n",
       "      <th>1997</th>\n",
       "      <td>327</td>\n",
       "    </tr>\n",
       "    <tr>\n",
       "      <th>1998</th>\n",
       "      <td>364</td>\n",
       "    </tr>\n",
       "    <tr>\n",
       "      <th>1999</th>\n",
       "      <td>281</td>\n",
       "    </tr>\n",
       "    <tr>\n",
       "      <th>2000</th>\n",
       "      <td>345</td>\n",
       "    </tr>\n",
       "    <tr>\n",
       "      <th>2001</th>\n",
       "      <td>393</td>\n",
       "    </tr>\n",
       "    <tr>\n",
       "      <th>2002</th>\n",
       "      <td>411</td>\n",
       "    </tr>\n",
       "    <tr>\n",
       "      <th>2003</th>\n",
       "      <td>413</td>\n",
       "    </tr>\n",
       "    <tr>\n",
       "      <th>2004</th>\n",
       "      <td>403</td>\n",
       "    </tr>\n",
       "    <tr>\n",
       "      <th>2005</th>\n",
       "      <td>405</td>\n",
       "    </tr>\n",
       "    <tr>\n",
       "      <th>2006</th>\n",
       "      <td>387</td>\n",
       "    </tr>\n",
       "    <tr>\n",
       "      <th>2007</th>\n",
       "      <td>379</td>\n",
       "    </tr>\n",
       "    <tr>\n",
       "      <th>2008</th>\n",
       "      <td>398</td>\n",
       "    </tr>\n",
       "    <tr>\n",
       "      <th>2009</th>\n",
       "      <td>343</td>\n",
       "    </tr>\n",
       "    <tr>\n",
       "      <th>2010</th>\n",
       "      <td>368</td>\n",
       "    </tr>\n",
       "    <tr>\n",
       "      <th>2011</th>\n",
       "      <td>413</td>\n",
       "    </tr>\n",
       "    <tr>\n",
       "      <th>2012</th>\n",
       "      <td>383</td>\n",
       "    </tr>\n",
       "    <tr>\n",
       "      <th>2013</th>\n",
       "      <td>362</td>\n",
       "    </tr>\n",
       "    <tr>\n",
       "      <th>2014</th>\n",
       "      <td>371</td>\n",
       "    </tr>\n",
       "    <tr>\n",
       "      <th>2015</th>\n",
       "      <td>397</td>\n",
       "    </tr>\n",
       "  </tbody>\n",
       "</table>\n",
       "</div>"
      ],
      "text/plain": [
       "      suicides_no\n",
       "year             \n",
       "1985          280\n",
       "1986          331\n",
       "1987          291\n",
       "1988          281\n",
       "1989          261\n",
       "1990          304\n",
       "1991          303\n",
       "1992          283\n",
       "1993          334\n",
       "1994          372\n",
       "1995          347\n",
       "1996          347\n",
       "1997          327\n",
       "1998          364\n",
       "1999          281\n",
       "2000          345\n",
       "2001          393\n",
       "2002          411\n",
       "2003          413\n",
       "2004          403\n",
       "2005          405\n",
       "2006          387\n",
       "2007          379\n",
       "2008          398\n",
       "2009          343\n",
       "2010          368\n",
       "2011          413\n",
       "2012          383\n",
       "2013          362\n",
       "2014          371\n",
       "2015          397"
      ]
     },
     "execution_count": 9,
     "metadata": {},
     "output_type": "execute_result"
    }
   ],
   "source": [
    "# Criando os Index das colunas\n",
    "dataset_work_male.set_index('year')\n",
    "dataset_work_female.set_index('year')"
   ]
  },
  {
   "cell_type": "code",
   "execution_count": 10,
   "metadata": {},
   "outputs": [
    {
     "data": {
      "text/html": [
       "<div>\n",
       "<style scoped>\n",
       "    .dataframe tbody tr th:only-of-type {\n",
       "        vertical-align: middle;\n",
       "    }\n",
       "\n",
       "    .dataframe tbody tr th {\n",
       "        vertical-align: top;\n",
       "    }\n",
       "\n",
       "    .dataframe thead th {\n",
       "        text-align: right;\n",
       "    }\n",
       "</style>\n",
       "<table border=\"1\" class=\"dataframe\">\n",
       "  <thead>\n",
       "    <tr style=\"text-align: right;\">\n",
       "      <th></th>\n",
       "      <th>year</th>\n",
       "      <th>suicides_no_x</th>\n",
       "      <th>suicides_no_y</th>\n",
       "    </tr>\n",
       "  </thead>\n",
       "  <tbody>\n",
       "    <tr>\n",
       "      <th>0</th>\n",
       "      <td>1985</td>\n",
       "      <td>661</td>\n",
       "      <td>280</td>\n",
       "    </tr>\n",
       "    <tr>\n",
       "      <th>1</th>\n",
       "      <td>1986</td>\n",
       "      <td>685</td>\n",
       "      <td>331</td>\n",
       "    </tr>\n",
       "    <tr>\n",
       "      <th>2</th>\n",
       "      <td>1987</td>\n",
       "      <td>713</td>\n",
       "      <td>291</td>\n",
       "    </tr>\n",
       "    <tr>\n",
       "      <th>3</th>\n",
       "      <td>1988</td>\n",
       "      <td>663</td>\n",
       "      <td>281</td>\n",
       "    </tr>\n",
       "    <tr>\n",
       "      <th>4</th>\n",
       "      <td>1989</td>\n",
       "      <td>722</td>\n",
       "      <td>261</td>\n",
       "    </tr>\n",
       "    <tr>\n",
       "      <th>5</th>\n",
       "      <td>1990</td>\n",
       "      <td>731</td>\n",
       "      <td>304</td>\n",
       "    </tr>\n",
       "    <tr>\n",
       "      <th>6</th>\n",
       "      <td>1991</td>\n",
       "      <td>771</td>\n",
       "      <td>303</td>\n",
       "    </tr>\n",
       "    <tr>\n",
       "      <th>7</th>\n",
       "      <td>1992</td>\n",
       "      <td>816</td>\n",
       "      <td>283</td>\n",
       "    </tr>\n",
       "    <tr>\n",
       "      <th>8</th>\n",
       "      <td>1993</td>\n",
       "      <td>917</td>\n",
       "      <td>334</td>\n",
       "    </tr>\n",
       "    <tr>\n",
       "      <th>9</th>\n",
       "      <td>1994</td>\n",
       "      <td>988</td>\n",
       "      <td>372</td>\n",
       "    </tr>\n",
       "    <tr>\n",
       "      <th>10</th>\n",
       "      <td>1995</td>\n",
       "      <td>1084</td>\n",
       "      <td>347</td>\n",
       "    </tr>\n",
       "    <tr>\n",
       "      <th>11</th>\n",
       "      <td>1996</td>\n",
       "      <td>1164</td>\n",
       "      <td>347</td>\n",
       "    </tr>\n",
       "    <tr>\n",
       "      <th>12</th>\n",
       "      <td>1997</td>\n",
       "      <td>1102</td>\n",
       "      <td>327</td>\n",
       "    </tr>\n",
       "    <tr>\n",
       "      <th>13</th>\n",
       "      <td>1998</td>\n",
       "      <td>1089</td>\n",
       "      <td>364</td>\n",
       "    </tr>\n",
       "    <tr>\n",
       "      <th>14</th>\n",
       "      <td>1999</td>\n",
       "      <td>1103</td>\n",
       "      <td>281</td>\n",
       "    </tr>\n",
       "    <tr>\n",
       "      <th>15</th>\n",
       "      <td>2000</td>\n",
       "      <td>1037</td>\n",
       "      <td>345</td>\n",
       "    </tr>\n",
       "    <tr>\n",
       "      <th>16</th>\n",
       "      <td>2001</td>\n",
       "      <td>1262</td>\n",
       "      <td>393</td>\n",
       "    </tr>\n",
       "    <tr>\n",
       "      <th>17</th>\n",
       "      <td>2002</td>\n",
       "      <td>1226</td>\n",
       "      <td>411</td>\n",
       "    </tr>\n",
       "    <tr>\n",
       "      <th>18</th>\n",
       "      <td>2003</td>\n",
       "      <td>1259</td>\n",
       "      <td>413</td>\n",
       "    </tr>\n",
       "    <tr>\n",
       "      <th>19</th>\n",
       "      <td>2004</td>\n",
       "      <td>1275</td>\n",
       "      <td>403</td>\n",
       "    </tr>\n",
       "    <tr>\n",
       "      <th>20</th>\n",
       "      <td>2005</td>\n",
       "      <td>1247</td>\n",
       "      <td>405</td>\n",
       "    </tr>\n",
       "    <tr>\n",
       "      <th>21</th>\n",
       "      <td>2006</td>\n",
       "      <td>1293</td>\n",
       "      <td>387</td>\n",
       "    </tr>\n",
       "    <tr>\n",
       "      <th>22</th>\n",
       "      <td>2007</td>\n",
       "      <td>1267</td>\n",
       "      <td>379</td>\n",
       "    </tr>\n",
       "    <tr>\n",
       "      <th>23</th>\n",
       "      <td>2008</td>\n",
       "      <td>1375</td>\n",
       "      <td>398</td>\n",
       "    </tr>\n",
       "    <tr>\n",
       "      <th>24</th>\n",
       "      <td>2009</td>\n",
       "      <td>1270</td>\n",
       "      <td>343</td>\n",
       "    </tr>\n",
       "    <tr>\n",
       "      <th>25</th>\n",
       "      <td>2010</td>\n",
       "      <td>1288</td>\n",
       "      <td>368</td>\n",
       "    </tr>\n",
       "    <tr>\n",
       "      <th>26</th>\n",
       "      <td>2011</td>\n",
       "      <td>1335</td>\n",
       "      <td>413</td>\n",
       "    </tr>\n",
       "    <tr>\n",
       "      <th>27</th>\n",
       "      <td>2012</td>\n",
       "      <td>1313</td>\n",
       "      <td>383</td>\n",
       "    </tr>\n",
       "    <tr>\n",
       "      <th>28</th>\n",
       "      <td>2013</td>\n",
       "      <td>1317</td>\n",
       "      <td>362</td>\n",
       "    </tr>\n",
       "    <tr>\n",
       "      <th>29</th>\n",
       "      <td>2014</td>\n",
       "      <td>1358</td>\n",
       "      <td>371</td>\n",
       "    </tr>\n",
       "    <tr>\n",
       "      <th>30</th>\n",
       "      <td>2015</td>\n",
       "      <td>1389</td>\n",
       "      <td>397</td>\n",
       "    </tr>\n",
       "  </tbody>\n",
       "</table>\n",
       "</div>"
      ],
      "text/plain": [
       "    year  suicides_no_x  suicides_no_y\n",
       "0   1985            661            280\n",
       "1   1986            685            331\n",
       "2   1987            713            291\n",
       "3   1988            663            281\n",
       "4   1989            722            261\n",
       "5   1990            731            304\n",
       "6   1991            771            303\n",
       "7   1992            816            283\n",
       "8   1993            917            334\n",
       "9   1994            988            372\n",
       "10  1995           1084            347\n",
       "11  1996           1164            347\n",
       "12  1997           1102            327\n",
       "13  1998           1089            364\n",
       "14  1999           1103            281\n",
       "15  2000           1037            345\n",
       "16  2001           1262            393\n",
       "17  2002           1226            411\n",
       "18  2003           1259            413\n",
       "19  2004           1275            403\n",
       "20  2005           1247            405\n",
       "21  2006           1293            387\n",
       "22  2007           1267            379\n",
       "23  2008           1375            398\n",
       "24  2009           1270            343\n",
       "25  2010           1288            368\n",
       "26  2011           1335            413\n",
       "27  2012           1313            383\n",
       "28  2013           1317            362\n",
       "29  2014           1358            371\n",
       "30  2015           1389            397"
      ]
     },
     "execution_count": 10,
     "metadata": {},
     "output_type": "execute_result"
    }
   ],
   "source": [
    "#dataset_work_male.sort_values(by=['suicides_no'], ascending=False) # Descrecente\n",
    "#dataset_work_male.sort_values(by=['year'], ascending=False) # Descrecente\n",
    "\n",
    "table_suicidio = pd.merge(dataset_work_male, dataset_work_female, on='year')\n",
    "table_suicidio"
   ]
  },
  {
   "cell_type": "markdown",
   "metadata": {},
   "source": [
    "<h3> 1 - Medidas de Tendência Central (Média, Mediana e Moda)</h3>"
   ]
  },
  {
   "cell_type": "code",
   "execution_count": 11,
   "metadata": {},
   "outputs": [
    {
     "name": "stdout",
     "output_type": "stream",
     "text": [
      "Média (masculino):  1087.741935483871\n",
      "Mediana (masculino):  1164.0\n",
      "Moda (masculino): AMODAL\n",
      "========================================\n",
      "Média (feminino):  350.8709677419355\n",
      "Mediana (feminino):  362.0\n",
      "Moda (feminino):  0    281\n",
      "1    347\n",
      "2    413\n",
      "dtype: int64\n"
     ]
    }
   ],
   "source": [
    "print('Média (masculino): ',dataset_work_male['suicides_no'].mean())\n",
    "print('Mediana (masculino): ',dataset_work_male['suicides_no'].median())\n",
    "# print('Moda (masculino): ',dataset_work_male['suicides_no'].mode())\n",
    "print('Moda (masculino): AMODAL')\n",
    "print('========================================')\n",
    "print('Média (feminino): ',dataset_work_female['suicides_no'].mean())\n",
    "print('Mediana (feminino): ',dataset_work_female['suicides_no'].median())\n",
    "print('Moda (feminino): ',dataset_work_female['suicides_no'].mode())\n",
    "# print('Moda (feminino): AMODAL')"
   ]
  },
  {
   "cell_type": "markdown",
   "metadata": {},
   "source": [
    "<h3>1.1 - Escore Z</h3>"
   ]
  },
  {
   "cell_type": "code",
   "execution_count": 12,
   "metadata": {},
   "outputs": [],
   "source": [
    "def situacao_escore_media(valor_escore):\n",
    "    if valor_escore > 0:\n",
    "        return ('Acima da Média')\n",
    "    elif valor_escore < 0:\n",
    "        return ('Abaixo da Média')\n",
    "    elif valor_escore == 0:\n",
    "        return ('Igual a Média')"
   ]
  },
  {
   "cell_type": "markdown",
   "metadata": {},
   "source": [
    "<h4>Masculino</h4>"
   ]
  },
  {
   "cell_type": "code",
   "execution_count": 13,
   "metadata": {},
   "outputs": [
    {
     "name": "stdout",
     "output_type": "stream",
     "text": [
      "YEAR\tSUICIDES_NO\tESCORE Z\n",
      "1985 \t 661 \t -1.7203858916472643 \t Abaixo da Média\n",
      "1986 \t 685 \t -1.6236312538526037 \t Abaixo da Média\n",
      "1987 \t 713 \t -1.5107508430921663 \t Abaixo da Média\n",
      "1988 \t 663 \t -1.7123230051643759 \t Abaixo da Média\n",
      "1989 \t 722 \t -1.4744678539191687 \t Abaixo da Média\n",
      "1990 \t 731 \t -1.438184864746171 \t Abaixo da Média\n",
      "1991 \t 771 \t -1.2769271350884033 \t Abaixo da Média\n",
      "1992 \t 816 \t -1.0955121892234148 \t Abaixo da Média\n",
      "1993 \t 917 \t -0.6883364218375516 \t Abaixo da Média\n",
      "1994 \t 988 \t -0.40210395169501406 \t Abaixo da Média\n",
      "1995 \t 1084 \t -0.015085400516371838 \t Abaixo da Média\n",
      "1996 \t 1164 \t 0.30743005879916335 \t Acima da Média\n",
      "1997 \t 1102 \t 0.05748057782962358 \t Acima da Média\n",
      "1998 \t 1089 \t 0.005071815690849113 \t Acima da Média\n",
      "1999 \t 1103 \t 0.06151202107106778 \t Acima da Média\n",
      "2000 \t 1037 \t -0.20456323286424877 \t Abaixo da Média\n",
      "2001 \t 1262 \t 0.702511496460694 \t Acima da Média\n",
      "2002 \t 1226 \t 0.5573795397687031 \t Acima da Média\n",
      "2003 \t 1259 \t 0.6904171667363614 \t Acima da Média\n",
      "2004 \t 1275 \t 0.7549202585994684 \t Acima da Média\n",
      "2005 \t 1247 \t 0.6420398478390311 \t Acima da Média\n",
      "2006 \t 1293 \t 0.8274862369454639 \t Acima da Média\n",
      "2007 \t 1267 \t 0.722668712667915 \t Acima da Média\n",
      "2008 \t 1375 \t 1.1580645827438876 \t Acima da Média\n",
      "2009 \t 1270 \t 0.7347630423922475 \t Acima da Média\n",
      "2010 \t 1288 \t 0.807329020738243 \t Acima da Média\n",
      "2011 \t 1335 \t 0.9968068530861198 \t Acima da Média\n",
      "2012 \t 1313 \t 0.9081151017743477 \t Acima da Média\n",
      "2013 \t 1317 \t 0.9242408747401245 \t Acima da Média\n",
      "2014 \t 1358 \t 1.0895300476393361 \t Acima da Média\n",
      "2015 \t 1389 \t 1.2145047881241062 \t Acima da Média\n"
     ]
    }
   ],
   "source": [
    "#df_zscore = (dataset_work['suicides_no'] - dataset_work['suicides_no'].mean())/dataset_work['suicides_no'].std()\n",
    "# now iterate over the remaining columns and create a new zscore column\n",
    "print('YEAR\\tSUICIDES_NO\\tESCORE Z')\n",
    "for index, row in dataset_work_male.iterrows():\n",
    "    #print(row['year'], row['suicides_no'])    \n",
    "    escore_z = (row['suicides_no'] - dataset_work_male['suicides_no'].mean())/dataset_work_male['suicides_no'].std()\n",
    "    print(row['year'],'\\t',row['suicides_no'],'\\t',escore_z,'\\t',situacao_escore_media(escore_z))"
   ]
  },
  {
   "cell_type": "markdown",
   "metadata": {},
   "source": [
    "<h4>Feminino</h4>"
   ]
  },
  {
   "cell_type": "code",
   "execution_count": 14,
   "metadata": {},
   "outputs": [
    {
     "name": "stdout",
     "output_type": "stream",
     "text": [
      "YEAR\tSUICIDES_NO\tESCORE Z\n",
      "1985 \t 280 \t -1.5273125224327315 \t Abaixo da Média\n",
      "1986 \t 331 \t -0.4282314582697145 \t Abaixo da Média\n",
      "1987 \t 291 \t -1.2902558223191396 \t Abaixo da Média\n",
      "1988 \t 281 \t -1.505761913331496 \t Abaixo da Média\n",
      "1989 \t 261 \t -1.9367740953562083 \t Abaixo da Média\n",
      "1990 \t 304 \t -1.0100979040030764 \t Abaixo da Média\n",
      "1991 \t 303 \t -1.031648513104312 \t Abaixo da Média\n",
      "1992 \t 283 \t -1.4626606951290246 \t Abaixo da Média\n",
      "1993 \t 334 \t -0.3635796309660076 \t Abaixo da Média\n",
      "1994 \t 372 \t 0.4553435148809462 \t Acima da Média\n",
      "1995 \t 347 \t -0.08342171264994444 \t Abaixo da Média\n",
      "1996 \t 347 \t -0.08342171264994444 \t Abaixo da Média\n",
      "1997 \t 327 \t -0.5144338946746569 \t Abaixo da Média\n",
      "1998 \t 364 \t 0.28293864207106123 \t Acima da Média\n",
      "1999 \t 281 \t -1.505761913331496 \t Abaixo da Média\n",
      "2000 \t 345 \t -0.1265229308524157 \t Abaixo da Média\n",
      "2001 \t 393 \t 0.9079063060068944 \t Acima da Média\n",
      "2002 \t 411 \t 1.2958172698291357 \t Acima da Média\n",
      "2003 \t 413 \t 1.338918488031607 \t Acima da Média\n",
      "2004 \t 403 \t 1.1234123970192507 \t Acima da Média\n",
      "2005 \t 405 \t 1.166513615221722 \t Acima da Média\n",
      "2006 \t 387 \t 0.7786026513994806 \t Acima da Média\n",
      "2007 \t 379 \t 0.6061977785895956 \t Acima da Média\n",
      "2008 \t 398 \t 1.0156593515130725 \t Acima da Média\n",
      "2009 \t 343 \t -0.16962414905488696 \t Abaixo da Média\n",
      "2010 \t 368 \t 0.36914107847600375 \t Acima da Média\n",
      "2011 \t 413 \t 1.338918488031607 \t Acima da Média\n",
      "2012 \t 383 \t 0.6924002149945381 \t Acima da Média\n",
      "2013 \t 362 \t 0.23983742386858997 \t Acima da Média\n",
      "2014 \t 371 \t 0.4337929057797106 \t Acima da Média\n",
      "2015 \t 397 \t 0.9941087424118369 \t Acima da Média\n"
     ]
    }
   ],
   "source": [
    "print('YEAR\\tSUICIDES_NO\\tESCORE Z')\n",
    "for index, row in dataset_work_female.iterrows():\n",
    "    #print(row['year'], row['suicides_no'])    \n",
    "    escore_z = (row['suicides_no'] - dataset_work_female['suicides_no'].mean())/dataset_work_female['suicides_no'].std()\n",
    "    print(row['year'],'\\t',row['suicides_no'],'\\t',escore_z,'\\t',situacao_escore_media(escore_z))"
   ]
  },
  {
   "cell_type": "markdown",
   "metadata": {},
   "source": [
    "<h3>1.2 - Simetria do conjunto de dados</h3>"
   ]
  },
  {
   "cell_type": "code",
   "execution_count": 15,
   "metadata": {},
   "outputs": [],
   "source": [
    "def status_simetria(dataframe):\n",
    "    skewness = dataframe.skew() # mede o grau de simetria da curva que deve é bem próxima de zero\n",
    "    if skewness['suicides_no'] > 0:\n",
    "        return 'Valor do Grau de Simetria:',skewness['suicides_no'],' * Assimétrico Direita - {moda < mediana < média} * Logo, a MEDIA está à direita da MEDIANA'\n",
    "    elif skewness['suicides_no'] < 0:\n",
    "        return \"Valor do Grau de Simetria: \",skewness['suicides_no'],\" * Assimétrico Esquerda - {média < mediana < moda} * Logo, a MEDIA está à esquerda da MEDIANA\"\n",
    "    elif skewness['suicides_no'] == 0:\n",
    "        return 'Valor do Grau de Simetria:',skewness['suicides_no'], ' * Distribuição Simétrica - {moda = mediana = média} * Logo, a MEDIA é igual à MEDIANA'"
   ]
  },
  {
   "cell_type": "code",
   "execution_count": 16,
   "metadata": {},
   "outputs": [
    {
     "name": "stdout",
     "output_type": "stream",
     "text": [
      "Simetria dados - Masculino:  ('Valor do Grau de Simetria: ', -0.6132529420554358, ' * Assimétrico Esquerda - {média < mediana < moda} * Logo, a MEDIA está à esquerda da MEDIANA')\n",
      "===============================================================\n",
      "Simetria dados - Feminino:  ('Valor do Grau de Simetria: ', -0.40202956170129756, ' * Assimétrico Esquerda - {média < mediana < moda} * Logo, a MEDIA está à esquerda da MEDIANA')\n"
     ]
    }
   ],
   "source": [
    "print('Simetria dados - Masculino: ',status_simetria(dataset_work_male))\n",
    "print('===============================================================')\n",
    "print('Simetria dados - Feminino: ',status_simetria(dataset_work_female))"
   ]
  },
  {
   "cell_type": "markdown",
   "metadata": {},
   "source": [
    "<h3>2 - Medidas de Posição Relativa</h3>"
   ]
  },
  {
   "cell_type": "markdown",
   "metadata": {},
   "source": [
    "<p><strong>Obs.:</strong> o segundo QUARTIL é equivalente a MEDIANA</p>"
   ]
  },
  {
   "cell_type": "code",
   "execution_count": 30,
   "metadata": {},
   "outputs": [
    {
     "name": "stdout",
     "output_type": "stream",
     "text": [
      "+-----------+-------------+------------+------------+------------+-------------+\n",
      "|   Gênero  | Menor valor | 1º quartil | 2º quartil | 3º quartil | Maior valor |\n",
      "+-----------+-------------+------------+------------+------------+-------------+\n",
      "| MASCULINO |     661     |   866.5    |   1164.0   |   1281.5   |     1389    |\n",
      "|  FEMININO |     261     |   315.5    |   362.0    |   390.0    |     413     |\n",
      "+-----------+-------------+------------+------------+------------+-------------+\n"
     ]
    }
   ],
   "source": [
    "# from prettytable import PrettyTable   \n",
    "x = PrettyTable()\n",
    "\n",
    "x.field_names = [\"Gênero\", \"Menor valor\", \"1º quartil\", \"2º quartil\", \"3º quartil\", \"Maior valor\"]\n",
    "\n",
    "x.add_row([\"MASCULINO\", \n",
    "           dataset_work_male['suicides_no'].min(), \n",
    "           dataset_work_male['suicides_no'].quantile(0.25), \n",
    "           dataset_work_male['suicides_no'].quantile(0.5),\n",
    "           dataset_work_male['suicides_no'].quantile(0.75),\n",
    "           dataset_work_male['suicides_no'].max()\n",
    "          ])\n",
    "\n",
    "x.add_row([\"FEMININO\", \n",
    "           dataset_work_female['suicides_no'].min(), \n",
    "           dataset_work_female['suicides_no'].quantile(0.25), \n",
    "           dataset_work_female['suicides_no'].quantile(0.5),\n",
    "           dataset_work_female['suicides_no'].quantile(0.75),\n",
    "           dataset_work_female['suicides_no'].max()\n",
    "          ])\n",
    "\n",
    "'''\n",
    "x.field_names = [\"City name\", \"Area\", \"Population\", \"Annual Rainfall\"]\n",
    "x.add_row([\"Adelaide\", 1295, 1158259, 600.5])\n",
    "x.add_row([\"Brisbane\", 5905, 1857594, 1146.4])\n",
    "x.add_row([\"Darwin\", 112, 120900, 1714.7])\n",
    "x.add_row([\"Hobart\", 1357, 205556, 619.5])\n",
    "x.add_row([\"Sydney\", 2058, 4336374, 1214.8])\n",
    "x.add_row([\"Melbourne\", 1566, 3806092, 646.9])\n",
    "x.add_row([\"Perth\", 5386, 1554769, 869.4])\n",
    "'''\n",
    "print(x)"
   ]
  },
  {
   "cell_type": "code",
   "execution_count": 28,
   "metadata": {},
   "outputs": [],
   "source": [
    "# pip install prettytable\n",
    "# pip install plotly\n",
    "# pip install cufflinks\n",
    "# pip install jupyterlab \"ipywidgets>=7.5\""
   ]
  },
  {
   "cell_type": "code",
   "execution_count": null,
   "metadata": {},
   "outputs": [],
   "source": [
    "print('<<< ======= MASCULINO ========= >>>')\n",
    "print('Menor valor: ',dataset_work_male['suicides_no'].min()) \n",
    "print('1º quartil: ', dataset_work_male['suicides_no'].quantile(0.25)) # quartil 0 <= x <= 1\n",
    "print('2º quartil: ',dataset_work_male['suicides_no'].quantile(0.5)) # quartil 0 <= x <= 1\n",
    "print('3º quartil: ',dataset_work_male['suicides_no'].quantile(0.75)) # quartil 0 <= x <= 1\n",
    "# print('Maior valor: ',dataset_work_male['suicides_no'].quantile(1)) # quartil 0 <= x <= 1\n",
    "print('Maior valor: ',dataset_work_male['suicides_no'].max()) # quartil 0 <= x <= 1\n",
    "\n",
    "print('<<< ======= FEMININO ========= >>>')\n",
    "print('Menor valor: ',dataset_work_female['suicides_no'].min()) \n",
    "print('1º quartil: ', dataset_work_female['suicides_no'].quantile(0.25)) # quartil 0 <= x <= 1\n",
    "print('2º quartil: ',dataset_work_female['suicides_no'].quantile(0.5)) # quartil 0 <= x <= 1\n",
    "print('3º quartil: ',dataset_work_female['suicides_no'].quantile(0.75)) # quartil 0 <= x <= 1\n",
    "# print('Maior valor: ',dataset_work_female['suicides_no'].quantile(1)) # quartil 0 <= x <= 1\n",
    "print('Maior valor: ',dataset_work_female['suicides_no'].max()) # quartil 0 <= x <= 1"
   ]
  },
  {
   "cell_type": "markdown",
   "metadata": {},
   "source": [
    "<h3>3 - Variância e Desvio Padrão</h3>"
   ]
  },
  {
   "cell_type": "markdown",
   "metadata": {},
   "source": [
    "<h4><strong>Obs.: </strong>O desvio padrão representa uma variação no conjunto que pode ser para cima ou abaxio em relação a média</h4>"
   ]
  },
  {
   "cell_type": "code",
   "execution_count": 35,
   "metadata": {},
   "outputs": [
    {
     "name": "stdout",
     "output_type": "stream",
     "text": [
      "+-----------+--------------------+-------------------+-----------+-------------------------+\n",
      "|   Gênero  | Variância de Dados |   Desvio Padrão   | Amplitude | Coeficiente de Variação |\n",
      "+-----------+--------------------+-------------------+-----------+-------------------------+\n",
      "| MASCULINO | 61528.86451612903  | 248.0501250072836 |    728    |    22.804133675046835   |\n",
      "|  FEMININO | 2153.1827956989246 | 46.40240075361322 |    152    |    13.224918850436792   |\n",
      "+-----------+--------------------+-------------------+-----------+-------------------------+\n"
     ]
    }
   ],
   "source": [
    "'''\n",
    "print('Variância de Dados: ',dataset_work_male['suicides_no'].var()) # variância\n",
    "print('Desvio Padrão: ',dataset_work_male['suicides_no'].std()) # Desvio padrão\n",
    "print('Amplitude: ',dataset_work_male['suicides_no'].max()-dataset_work_male['suicides_no'].min())\n",
    "print('Coeficiente de Variação: ',(dataset_work_male['suicides_no'].std()/dataset_work_male['suicides_no'].mean())*100)\n",
    "'''\n",
    "data_dp = PrettyTable()\n",
    "\n",
    "data_dp.field_names = [\"Gênero\", \"Variância de Dados\", \"Desvio Padrão\", \"Amplitude\", \"Coeficiente de Variação\"]\n",
    "data_dp.add_row([\"MASCULINO\",\n",
    "                 dataset_work_male['suicides_no'].var(),\n",
    "                 dataset_work_male['suicides_no'].std(),\n",
    "                 dataset_work_male['suicides_no'].max()-dataset_work_male['suicides_no'].min(),\n",
    "                 (dataset_work_male['suicides_no'].std()/dataset_work_male['suicides_no'].mean())*100\n",
    "                ])\n",
    "data_dp.add_row([\"FEMININO\",\n",
    "                 dataset_work_female['suicides_no'].var(),\n",
    "                 dataset_work_female['suicides_no'].std(),\n",
    "                 dataset_work_female['suicides_no'].max()-dataset_work_female['suicides_no'].min(),\n",
    "                 (dataset_work_female['suicides_no'].std()/dataset_work_female['suicides_no'].mean())*100\n",
    "                ])\n",
    "print(data_dp)"
   ]
  },
  {
   "cell_type": "markdown",
   "metadata": {},
   "source": [
    "<h3>4 - Gráficos</h3>"
   ]
  },
  {
   "cell_type": "markdown",
   "metadata": {},
   "source": [
    "<h3>4.1 - BoxPlot</h3>"
   ]
  },
  {
   "cell_type": "code",
   "execution_count": 41,
   "metadata": {},
   "outputs": [],
   "source": [
    "diq_male = dataset_work_male['suicides_no'].quantile(0.75) - dataset_work_male['suicides_no'].quantile(0.25)\n",
    "discrepante_min_male = dataset_work_male['suicides_no'].quantile(0.25) - 1.5 * diq_male \n",
    "discrepante_max_male = dataset_work_male['suicides_no'].quantile(0.75) + 1.5 * diq_male \n",
    "\n",
    "diq_female = dataset_work_female['suicides_no'].quantile(0.75) - dataset_work_female['suicides_no'].quantile(0.25)\n",
    "discrepante_min_female = dataset_work_female['suicides_no'].quantile(0.25) - 1.5 * diq_female \n",
    "discrepante_max_female = dataset_work_female['suicides_no'].quantile(0.75) + 1.5 * diq_female "
   ]
  },
  {
   "cell_type": "code",
   "execution_count": 42,
   "metadata": {},
   "outputs": [
    {
     "name": "stdout",
     "output_type": "stream",
     "text": [
      "+-----------+-------------------------+--------------------+--------------------+\n",
      "|   Gênero  | Amplitude Inter Quartil | Discrepante Mínimo | Discrepante Máximo |\n",
      "+-----------+-------------------------+--------------------+--------------------+\n",
      "| MASCULINO |          415.0          |       244.0        |       1904.0       |\n",
      "|  FEMININO |           74.5          |       203.75       |       501.75       |\n",
      "+-----------+-------------------------+--------------------+--------------------+\n"
     ]
    }
   ],
   "source": [
    "data_box = PrettyTable()\n",
    "data_box.field_names = [\"Gênero\",\"Amplitude Inter Quartil\", \"Discrepante Mínimo\", \"Discrepante Máximo\"]\n",
    "data_box.add_row([\"MASCULINO\", diq_male, discrepante_min_male, discrepante_max_male])\n",
    "data_box.add_row([\"FEMININO\", diq_female, discrepante_min_female, discrepante_max_female])\n",
    "print(data_box)"
   ]
  },
  {
   "cell_type": "code",
   "execution_count": 43,
   "metadata": {},
   "outputs": [],
   "source": [
    "# Função reponsável por retornar TRUE caso encontre discrepante\n",
    "def exibirValoreDiscrepantes(valor, minimo, maximo):    \n",
    "    if valor >= minimo and valor <= maximo:\n",
    "        return False\n",
    "    else: \n",
    "        return True"
   ]
  },
  {
   "cell_type": "code",
   "execution_count": 45,
   "metadata": {},
   "outputs": [],
   "source": [
    "# Se não retornar não tem valores discrepantes\n",
    "for index, row in dataset_work_female.iterrows():\n",
    "    if(exibirValoreDiscrepantes(row['suicides_no'], discrepante_min_female, discrepante_max_female)):\n",
    "        print(row['suicides_no'])"
   ]
  },
  {
   "cell_type": "code",
   "execution_count": 46,
   "metadata": {},
   "outputs": [
    {
     "data": {
      "image/png": "[encoded data removed]",
      "text/plain": [
       "<Figure size 432x288 with 1 Axes>"
      ]
     },
     "metadata": {
      "needs_background": "light"
     },
     "output_type": "display_data"
    }
   ],
   "source": [
    "# x = masculino e y = feminino\n",
    "boxplot = table_suicidio.boxplot(column=['suicides_no_x','suicides_no_y'],fontsize=15)"
   ]
  },
  {
   "cell_type": "code",
   "execution_count": 47,
   "metadata": {},
   "outputs": [
    {
     "data": {
      "image/png": "[encoded data removed]",
      "text/plain": [
       "<Figure size 432x288 with 1 Axes>"
      ]
     },
     "metadata": {
      "needs_background": "light"
     },
     "output_type": "display_data"
    }
   ],
   "source": [
    "boxplot_male = table_suicidio.boxplot(column=['suicides_no_y'],fontsize=15) # feminino"
   ]
  },
  {
   "cell_type": "markdown",
   "metadata": {},
   "source": [
    "<h3>4.2 - Bar Plot</h3>"
   ]
  },
  {
   "cell_type": "code",
   "execution_count": 149,
   "metadata": {},
   "outputs": [
    {
     "data": {
      "text/plain": [
       "<matplotlib.axes._subplots.AxesSubplot at 0x7f4a2ae9aac8>"
      ]
     },
     "execution_count": 149,
     "metadata": {},
     "output_type": "execute_result"
    },
    {
     "data": {
      "image/png": "[encoded data removed]",
      "text/plain": [
       "<Figure size 2160x720 with 1 Axes>"
      ]
     },
     "metadata": {
      "needs_background": "light"
     },
     "output_type": "display_data"
    }
   ],
   "source": [
    "ax = dataset_work.plot.bar(y='suicides_no', x='year', legend='Nº suicídios Brasil',rot=0, fontsize=15, figsize=[30,10])\n",
    "ax"
   ]
  },
  {
   "cell_type": "code",
   "execution_count": null,
   "metadata": {},
   "outputs": [],
   "source": []
  },
  {
   "cell_type": "code",
   "execution_count": 24,
   "metadata": {},
   "outputs": [
    {
     "name": "stdout",
     "output_type": "stream",
     "text": [
      "Collecting chart_studio\n",
      "  Downloading https://files.pythonhosted.org/packages/ca/ce/330794a6b6ca4b9182c38fc69dd2a9cbff60fd49421cb8648ee5fee352dc/chart_studio-1.1.0-py3-none-any.whl (64kB)\n",
      "\u001b[K    100% |████████████████████████████████| 71kB 459kB/s ta 0:00:01\n",
      "\u001b[?25hRequirement already satisfied: six in /home/hadoop/dask/lib/python3.6/site-packages (from chart_studio)\n",
      "Requirement already satisfied: requests in /home/hadoop/dask/lib/python3.6/site-packages (from chart_studio)\n",
      "Requirement already satisfied: plotly in /home/hadoop/dask/lib/python3.6/site-packages (from chart_studio)\n",
      "Requirement already satisfied: retrying>=1.3.3 in /home/hadoop/dask/lib/python3.6/site-packages (from chart_studio)\n",
      "Requirement already satisfied: certifi>=2017.4.17 in /home/hadoop/dask/lib/python3.6/site-packages (from requests->chart_studio)\n",
      "Requirement already satisfied: chardet<4,>=3.0.2 in /home/hadoop/dask/lib/python3.6/site-packages (from requests->chart_studio)\n",
      "Requirement already satisfied: urllib3<1.27,>=1.21.1 in /home/hadoop/dask/lib/python3.6/site-packages (from requests->chart_studio)\n",
      "Requirement already satisfied: idna<3,>=2.5 in /home/hadoop/dask/lib/python3.6/site-packages (from requests->chart_studio)\n",
      "Installing collected packages: chart-studio\n",
      "Successfully installed chart-studio-1.1.0\n",
      "Note: you may need to restart the kernel to use updated packages.\n"
     ]
    }
   ],
   "source": [
    "pip install chart_studio"
   ]
  },
  {
   "cell_type": "code",
   "execution_count": null,
   "metadata": {},
   "outputs": [],
   "source": [
    "https://plotly.com/python/ipython-notebook-tutorial/"
   ]
  }
 ],
 "metadata": {
  "kernelspec": {
   "display_name": "Python 3",
   "language": "python",
   "name": "python3"
  },
  "language_info": {
   "codemirror_mode": {
    "name": "ipython",
    "version": 3
   },
   "file_extension": ".py",
   "mimetype": "text/x-python",
   "name": "python",
   "nbconvert_exporter": "python",
   "pygments_lexer": "ipython3",
   "version": "3.6.9"
  }
 },
 "nbformat": 4,
 "nbformat_minor": 4
}
