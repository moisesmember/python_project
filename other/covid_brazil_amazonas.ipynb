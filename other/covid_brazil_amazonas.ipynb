{
 "cells": [
  {
   "cell_type": "code",
   "execution_count": 1,
   "metadata": {},
   "outputs": [],
   "source": [
    "import pandas as pd\n",
    "from prettytable import PrettyTable"
   ]
  },
  {
   "cell_type": "code",
   "execution_count": 2,
   "metadata": {},
   "outputs": [],
   "source": [
    "data_covid19 = pd.read_csv('/home/hadoop/dataset/caso_covid_brazil.csv');"
   ]
  },
  {
   "cell_type": "code",
   "execution_count": 8,
   "metadata": {},
   "outputs": [],
   "source": [
    "data_covid19_amazonas = data_covid19[data_covid19.state.isin(['AM'])] # Filtra só no Amazonas\n",
    "data_covid19_am_manaus = data_covid19[data_covid19.city.isin(['Manaus'])] # Filtra só de Manaus\n",
    "\n",
    "# verifica valores nulos por coluna\n",
    "pd.DataFrame({'tipos':data_covid19_am_manaus.dtypes, 'missing':data_covid19_am_manaus.isna().sum()}) "
   ]
  },
  {
   "cell_type": "code",
   "execution_count": 9,
   "metadata": {},
   "outputs": [
    {
     "data": {
      "text/html": [
       "<div>\n",
       "<style scoped>\n",
       "    .dataframe tbody tr th:only-of-type {\n",
       "        vertical-align: middle;\n",
       "    }\n",
       "\n",
       "    .dataframe tbody tr th {\n",
       "        vertical-align: top;\n",
       "    }\n",
       "\n",
       "    .dataframe thead th {\n",
       "        text-align: right;\n",
       "    }\n",
       "</style>\n",
       "<table border=\"1\" class=\"dataframe\">\n",
       "  <thead>\n",
       "    <tr style=\"text-align: right;\">\n",
       "      <th></th>\n",
       "      <th>date</th>\n",
       "      <th>state</th>\n",
       "      <th>city</th>\n",
       "      <th>place_type</th>\n",
       "      <th>confirmed</th>\n",
       "      <th>deaths</th>\n",
       "      <th>order_for_place</th>\n",
       "      <th>is_last</th>\n",
       "      <th>estimated_population_2019</th>\n",
       "      <th>estimated_population</th>\n",
       "      <th>city_ibge_code</th>\n",
       "      <th>confirmed_per_100k_inhabitants</th>\n",
       "      <th>death_rate</th>\n",
       "    </tr>\n",
       "  </thead>\n",
       "  <tbody>\n",
       "    <tr>\n",
       "      <th>15639</th>\n",
       "      <td>2020-11-16</td>\n",
       "      <td>AM</td>\n",
       "      <td>Manaus</td>\n",
       "      <td>city</td>\n",
       "      <td>66767</td>\n",
       "      <td>2989</td>\n",
       "      <td>239</td>\n",
       "      <td>True</td>\n",
       "      <td>2182763.0</td>\n",
       "      <td>2219580.0</td>\n",
       "      <td>1302603.0</td>\n",
       "      <td>3008.09162</td>\n",
       "      <td>0.0448</td>\n",
       "    </tr>\n",
       "    <tr>\n",
       "      <th>15640</th>\n",
       "      <td>2020-11-15</td>\n",
       "      <td>AM</td>\n",
       "      <td>Manaus</td>\n",
       "      <td>city</td>\n",
       "      <td>66724</td>\n",
       "      <td>2987</td>\n",
       "      <td>238</td>\n",
       "      <td>False</td>\n",
       "      <td>2182763.0</td>\n",
       "      <td>2219580.0</td>\n",
       "      <td>1302603.0</td>\n",
       "      <td>3006.15432</td>\n",
       "      <td>0.0448</td>\n",
       "    </tr>\n",
       "    <tr>\n",
       "      <th>15641</th>\n",
       "      <td>2020-11-13</td>\n",
       "      <td>AM</td>\n",
       "      <td>Manaus</td>\n",
       "      <td>city</td>\n",
       "      <td>66292</td>\n",
       "      <td>2974</td>\n",
       "      <td>237</td>\n",
       "      <td>False</td>\n",
       "      <td>2182763.0</td>\n",
       "      <td>2219580.0</td>\n",
       "      <td>1302603.0</td>\n",
       "      <td>2986.69118</td>\n",
       "      <td>0.0449</td>\n",
       "    </tr>\n",
       "    <tr>\n",
       "      <th>15642</th>\n",
       "      <td>2020-11-12</td>\n",
       "      <td>AM</td>\n",
       "      <td>Manaus</td>\n",
       "      <td>city</td>\n",
       "      <td>66122</td>\n",
       "      <td>2973</td>\n",
       "      <td>236</td>\n",
       "      <td>False</td>\n",
       "      <td>2182763.0</td>\n",
       "      <td>2219580.0</td>\n",
       "      <td>1302603.0</td>\n",
       "      <td>2979.03207</td>\n",
       "      <td>0.0450</td>\n",
       "    </tr>\n",
       "    <tr>\n",
       "      <th>15643</th>\n",
       "      <td>2020-11-11</td>\n",
       "      <td>AM</td>\n",
       "      <td>Manaus</td>\n",
       "      <td>city</td>\n",
       "      <td>65886</td>\n",
       "      <td>2952</td>\n",
       "      <td>235</td>\n",
       "      <td>False</td>\n",
       "      <td>2182763.0</td>\n",
       "      <td>2219580.0</td>\n",
       "      <td>1302603.0</td>\n",
       "      <td>2968.39943</td>\n",
       "      <td>0.0448</td>\n",
       "    </tr>\n",
       "    <tr>\n",
       "      <th>...</th>\n",
       "      <td>...</td>\n",
       "      <td>...</td>\n",
       "      <td>...</td>\n",
       "      <td>...</td>\n",
       "      <td>...</td>\n",
       "      <td>...</td>\n",
       "      <td>...</td>\n",
       "      <td>...</td>\n",
       "      <td>...</td>\n",
       "      <td>...</td>\n",
       "      <td>...</td>\n",
       "      <td>...</td>\n",
       "      <td>...</td>\n",
       "    </tr>\n",
       "    <tr>\n",
       "      <th>15873</th>\n",
       "      <td>2020-03-21</td>\n",
       "      <td>AM</td>\n",
       "      <td>Manaus</td>\n",
       "      <td>city</td>\n",
       "      <td>11</td>\n",
       "      <td>0</td>\n",
       "      <td>5</td>\n",
       "      <td>False</td>\n",
       "      <td>2182763.0</td>\n",
       "      <td>2219580.0</td>\n",
       "      <td>1302603.0</td>\n",
       "      <td>0.49559</td>\n",
       "      <td>0.0000</td>\n",
       "    </tr>\n",
       "    <tr>\n",
       "      <th>15874</th>\n",
       "      <td>2020-03-20</td>\n",
       "      <td>AM</td>\n",
       "      <td>Manaus</td>\n",
       "      <td>city</td>\n",
       "      <td>7</td>\n",
       "      <td>0</td>\n",
       "      <td>4</td>\n",
       "      <td>False</td>\n",
       "      <td>2182763.0</td>\n",
       "      <td>2219580.0</td>\n",
       "      <td>1302603.0</td>\n",
       "      <td>0.31537</td>\n",
       "      <td>0.0000</td>\n",
       "    </tr>\n",
       "    <tr>\n",
       "      <th>15875</th>\n",
       "      <td>2020-03-19</td>\n",
       "      <td>AM</td>\n",
       "      <td>Manaus</td>\n",
       "      <td>city</td>\n",
       "      <td>3</td>\n",
       "      <td>0</td>\n",
       "      <td>3</td>\n",
       "      <td>False</td>\n",
       "      <td>2182763.0</td>\n",
       "      <td>2219580.0</td>\n",
       "      <td>1302603.0</td>\n",
       "      <td>0.13516</td>\n",
       "      <td>0.0000</td>\n",
       "    </tr>\n",
       "    <tr>\n",
       "      <th>15876</th>\n",
       "      <td>2020-03-18</td>\n",
       "      <td>AM</td>\n",
       "      <td>Manaus</td>\n",
       "      <td>city</td>\n",
       "      <td>2</td>\n",
       "      <td>0</td>\n",
       "      <td>2</td>\n",
       "      <td>False</td>\n",
       "      <td>2182763.0</td>\n",
       "      <td>2219580.0</td>\n",
       "      <td>1302603.0</td>\n",
       "      <td>0.09011</td>\n",
       "      <td>0.0000</td>\n",
       "    </tr>\n",
       "    <tr>\n",
       "      <th>15877</th>\n",
       "      <td>2020-03-13</td>\n",
       "      <td>AM</td>\n",
       "      <td>Manaus</td>\n",
       "      <td>city</td>\n",
       "      <td>2</td>\n",
       "      <td>0</td>\n",
       "      <td>1</td>\n",
       "      <td>False</td>\n",
       "      <td>2182763.0</td>\n",
       "      <td>2219580.0</td>\n",
       "      <td>1302603.0</td>\n",
       "      <td>0.09011</td>\n",
       "      <td>0.0000</td>\n",
       "    </tr>\n",
       "  </tbody>\n",
       "</table>\n",
       "<p>239 rows × 13 columns</p>\n",
       "</div>"
      ],
      "text/plain": [
       "             date state    city place_type  confirmed  deaths  \\\n",
       "15639  2020-11-16    AM  Manaus       city      66767    2989   \n",
       "15640  2020-11-15    AM  Manaus       city      66724    2987   \n",
       "15641  2020-11-13    AM  Manaus       city      66292    2974   \n",
       "15642  2020-11-12    AM  Manaus       city      66122    2973   \n",
       "15643  2020-11-11    AM  Manaus       city      65886    2952   \n",
       "...           ...   ...     ...        ...        ...     ...   \n",
       "15873  2020-03-21    AM  Manaus       city         11       0   \n",
       "15874  2020-03-20    AM  Manaus       city          7       0   \n",
       "15875  2020-03-19    AM  Manaus       city          3       0   \n",
       "15876  2020-03-18    AM  Manaus       city          2       0   \n",
       "15877  2020-03-13    AM  Manaus       city          2       0   \n",
       "\n",
       "       order_for_place  is_last  estimated_population_2019  \\\n",
       "15639              239     True                  2182763.0   \n",
       "15640              238    False                  2182763.0   \n",
       "15641              237    False                  2182763.0   \n",
       "15642              236    False                  2182763.0   \n",
       "15643              235    False                  2182763.0   \n",
       "...                ...      ...                        ...   \n",
       "15873                5    False                  2182763.0   \n",
       "15874                4    False                  2182763.0   \n",
       "15875                3    False                  2182763.0   \n",
       "15876                2    False                  2182763.0   \n",
       "15877                1    False                  2182763.0   \n",
       "\n",
       "       estimated_population  city_ibge_code  confirmed_per_100k_inhabitants  \\\n",
       "15639             2219580.0       1302603.0                      3008.09162   \n",
       "15640             2219580.0       1302603.0                      3006.15432   \n",
       "15641             2219580.0       1302603.0                      2986.69118   \n",
       "15642             2219580.0       1302603.0                      2979.03207   \n",
       "15643             2219580.0       1302603.0                      2968.39943   \n",
       "...                     ...             ...                             ...   \n",
       "15873             2219580.0       1302603.0                         0.49559   \n",
       "15874             2219580.0       1302603.0                         0.31537   \n",
       "15875             2219580.0       1302603.0                         0.13516   \n",
       "15876             2219580.0       1302603.0                         0.09011   \n",
       "15877             2219580.0       1302603.0                         0.09011   \n",
       "\n",
       "       death_rate  \n",
       "15639      0.0448  \n",
       "15640      0.0448  \n",
       "15641      0.0449  \n",
       "15642      0.0450  \n",
       "15643      0.0448  \n",
       "...           ...  \n",
       "15873      0.0000  \n",
       "15874      0.0000  \n",
       "15875      0.0000  \n",
       "15876      0.0000  \n",
       "15877      0.0000  \n",
       "\n",
       "[239 rows x 13 columns]"
      ]
     },
     "execution_count": 9,
     "metadata": {},
     "output_type": "execute_result"
    }
   ],
   "source": [
    "data_covid19_am_manaus"
   ]
  },
  {
   "cell_type": "code",
   "execution_count": 11,
   "metadata": {},
   "outputs": [
    {
     "data": {
      "text/html": [
       "<div>\n",
       "<style scoped>\n",
       "    .dataframe tbody tr th:only-of-type {\n",
       "        vertical-align: middle;\n",
       "    }\n",
       "\n",
       "    .dataframe tbody tr th {\n",
       "        vertical-align: top;\n",
       "    }\n",
       "\n",
       "    .dataframe thead th {\n",
       "        text-align: right;\n",
       "    }\n",
       "</style>\n",
       "<table border=\"1\" class=\"dataframe\">\n",
       "  <thead>\n",
       "    <tr style=\"text-align: right;\">\n",
       "      <th></th>\n",
       "      <th>date</th>\n",
       "      <th>confirmed</th>\n",
       "      <th>deaths</th>\n",
       "      <th>death_rate</th>\n",
       "    </tr>\n",
       "  </thead>\n",
       "  <tbody>\n",
       "    <tr>\n",
       "      <th>15639</th>\n",
       "      <td>2020-11-16</td>\n",
       "      <td>66767</td>\n",
       "      <td>2989</td>\n",
       "      <td>0.0448</td>\n",
       "    </tr>\n",
       "    <tr>\n",
       "      <th>15640</th>\n",
       "      <td>2020-11-15</td>\n",
       "      <td>66724</td>\n",
       "      <td>2987</td>\n",
       "      <td>0.0448</td>\n",
       "    </tr>\n",
       "    <tr>\n",
       "      <th>15641</th>\n",
       "      <td>2020-11-13</td>\n",
       "      <td>66292</td>\n",
       "      <td>2974</td>\n",
       "      <td>0.0449</td>\n",
       "    </tr>\n",
       "    <tr>\n",
       "      <th>15642</th>\n",
       "      <td>2020-11-12</td>\n",
       "      <td>66122</td>\n",
       "      <td>2973</td>\n",
       "      <td>0.0450</td>\n",
       "    </tr>\n",
       "    <tr>\n",
       "      <th>15643</th>\n",
       "      <td>2020-11-11</td>\n",
       "      <td>65886</td>\n",
       "      <td>2952</td>\n",
       "      <td>0.0448</td>\n",
       "    </tr>\n",
       "    <tr>\n",
       "      <th>...</th>\n",
       "      <td>...</td>\n",
       "      <td>...</td>\n",
       "      <td>...</td>\n",
       "      <td>...</td>\n",
       "    </tr>\n",
       "    <tr>\n",
       "      <th>15873</th>\n",
       "      <td>2020-03-21</td>\n",
       "      <td>11</td>\n",
       "      <td>0</td>\n",
       "      <td>0.0000</td>\n",
       "    </tr>\n",
       "    <tr>\n",
       "      <th>15874</th>\n",
       "      <td>2020-03-20</td>\n",
       "      <td>7</td>\n",
       "      <td>0</td>\n",
       "      <td>0.0000</td>\n",
       "    </tr>\n",
       "    <tr>\n",
       "      <th>15875</th>\n",
       "      <td>2020-03-19</td>\n",
       "      <td>3</td>\n",
       "      <td>0</td>\n",
       "      <td>0.0000</td>\n",
       "    </tr>\n",
       "    <tr>\n",
       "      <th>15876</th>\n",
       "      <td>2020-03-18</td>\n",
       "      <td>2</td>\n",
       "      <td>0</td>\n",
       "      <td>0.0000</td>\n",
       "    </tr>\n",
       "    <tr>\n",
       "      <th>15877</th>\n",
       "      <td>2020-03-13</td>\n",
       "      <td>2</td>\n",
       "      <td>0</td>\n",
       "      <td>0.0000</td>\n",
       "    </tr>\n",
       "  </tbody>\n",
       "</table>\n",
       "<p>239 rows × 4 columns</p>\n",
       "</div>"
      ],
      "text/plain": [
       "             date  confirmed  deaths  death_rate\n",
       "15639  2020-11-16      66767    2989      0.0448\n",
       "15640  2020-11-15      66724    2987      0.0448\n",
       "15641  2020-11-13      66292    2974      0.0449\n",
       "15642  2020-11-12      66122    2973      0.0450\n",
       "15643  2020-11-11      65886    2952      0.0448\n",
       "...           ...        ...     ...         ...\n",
       "15873  2020-03-21         11       0      0.0000\n",
       "15874  2020-03-20          7       0      0.0000\n",
       "15875  2020-03-19          3       0      0.0000\n",
       "15876  2020-03-18          2       0      0.0000\n",
       "15877  2020-03-13          2       0      0.0000\n",
       "\n",
       "[239 rows x 4 columns]"
      ]
     },
     "execution_count": 11,
     "metadata": {},
     "output_type": "execute_result"
    }
   ],
   "source": [
    "# criei dataframe com as duas informações que vou trabalhar\n",
    "covid19_manaus = data_covid19_am_manaus[['date','confirmed','deaths', 'death_rate']] \n",
    "# covid19_manaus.count() # Mostra quantidade de registros por coluna\n",
    "# covid19_manaus.size # Tamanho do dataset\n",
    "covid19_manaus"
   ]
  },
  {
   "cell_type": "markdown",
   "metadata": {},
   "source": [
    "<h3> 1 - Medidas de Tendência Central (Média, Mediana e Moda)</h3>"
   ]
  },
  {
   "cell_type": "markdown",
   "metadata": {},
   "source": [
    "<h4> I - Casos confirmados</h4>"
   ]
  },
  {
   "cell_type": "code",
   "execution_count": 14,
   "metadata": {},
   "outputs": [
    {
     "name": "stdout",
     "output_type": "stream",
     "text": [
      "Média:  29771.10878661088\n",
      "Mediana:  31053.0\n",
      "Moda:  0    2\n",
      "dtype: int64\n"
     ]
    }
   ],
   "source": [
    "print('Média: ',covid19_manaus['confirmed'].mean())\n",
    "print('Mediana: ',covid19_manaus['confirmed'].median())\n",
    "print('Moda: ',covid19_manaus['confirmed'].mode())"
   ]
  },
  {
   "cell_type": "markdown",
   "metadata": {},
   "source": [
    "<h4> II - Casos mortes</h4>"
   ]
  },
  {
   "cell_type": "code",
   "execution_count": 15,
   "metadata": {},
   "outputs": [
    {
     "name": "stdout",
     "output_type": "stream",
     "text": [
      "Média:  1646.305439330544\n",
      "Mediana:  1914.0\n",
      "Moda:  0    0\n",
      "dtype: int64\n"
     ]
    }
   ],
   "source": [
    "print('Média: ',covid19_manaus['deaths'].mean())\n",
    "print('Mediana: ',covid19_manaus['deaths'].median())\n",
    "print('Moda: ',covid19_manaus['deaths'].mode())"
   ]
  },
  {
   "cell_type": "markdown",
   "metadata": {},
   "source": [
    "<h3>1.1 - Escore Z</h3>"
   ]
  },
  {
   "cell_type": "code",
   "execution_count": 16,
   "metadata": {},
   "outputs": [],
   "source": [
    "def situacao_escore_media(valor_escore):\n",
    "    if valor_escore > 0:\n",
    "        return ('Acima da Média')\n",
    "    elif valor_escore < 0:\n",
    "        return ('Abaixo da Média')\n",
    "    elif valor_escore == 0:\n",
    "        return ('Igual a Média')"
   ]
  },
  {
   "cell_type": "markdown",
   "metadata": {},
   "source": [
    "<h4> I - Casos confirmados</h4>"
   ]
  },
  {
   "cell_type": "code",
   "execution_count": 18,
   "metadata": {},
   "outputs": [
    {
     "name": "stdout",
     "output_type": "stream",
     "text": [
      "DATE\tCONFIRMED\tESCORE Z\n",
      "2020-11-16 \t 66767 \t 1.7892751202307635 \t Acima da Média\n",
      "2020-11-15 \t 66724 \t 1.787195461445788 \t Acima da Média\n",
      "2020-11-13 \t 66292 \t 1.7663021452804526 \t Acima da Média\n",
      "2020-11-12 \t 66122 \t 1.758080238456131 \t Acima da Média\n",
      "2020-11-11 \t 65886 \t 1.7466662972176605 \t Acima da Média\n",
      "2020-11-10 \t 65570 \t 1.73138322335598 \t Acima da Média\n",
      "2020-11-09 \t 65213 \t 1.7141172190249043 \t Acima da Média\n",
      "2020-11-08 \t 65151 \t 1.7111186412419166 \t Acima da Média\n",
      "2020-11-07 \t 65015 \t 1.704541115782459 \t Acima da Média\n",
      "2020-11-05 \t 64341 \t 1.6719436734319129 \t Acima da Média\n",
      "2020-11-04 \t 64092 \t 1.6599009981421708 \t Acima da Média\n",
      "2020-11-03 \t 63705 \t 1.6411840690773913 \t Acima da Média\n",
      "2020-11-02 \t 63557 \t 1.6340261737244524 \t Acima da Média\n",
      "2020-11-01 \t 63504 \t 1.6314628733615757 \t Acima da Média\n",
      "2020-10-31 \t 63382 \t 1.62556244611118 \t Acima da Média\n",
      "2020-10-30 \t 63262 \t 1.6197587471763646 \t Acima da Média\n",
      "2020-10-29 \t 62829 \t 1.598817066853239 \t Acima da Média\n",
      "2020-10-28 \t 62330 \t 1.5746833521159653 \t Acima da Média\n",
      "2020-10-27 \t 61912 \t 1.5544671341596916 \t Acima da Média\n",
      "2020-10-26 \t 61422 \t 1.530768696842529 \t Acima da Média\n",
      "2020-10-25 \t 61380 \t 1.5287374022153437 \t Acima da Média\n",
      "2020-10-24 \t 61166 \t 1.5183874724482562 \t Acima da Média\n",
      "2020-10-23 \t 60685 \t 1.4951243125512046 \t Acima da Média\n",
      "2020-10-22 \t 60205 \t 1.4719095168119432 \t Acima da Média\n",
      "2020-10-20 \t 58619 \t 1.3952039625568 \t Acima da Média\n",
      "2020-10-18 \t 58087 \t 1.3694742306124519 \t Acima da Média\n",
      "2020-10-17 \t 57787 \t 1.3549649832754136 \t Acima da Média\n",
      "2020-10-14 \t 56222 \t 1.2792750763338632 \t Acima da Média\n",
      "2020-10-13 \t 55892 \t 1.2633149042631209 \t Acima da Média\n",
      "2020-10-12 \t 55757 \t 1.2567857429614535 \t Acima da Média\n",
      "2020-10-11 \t 55863 \t 1.261912343687207 \t Acima da Média\n",
      "2020-10-10 \t 55609 \t 1.2496278476085145 \t Acima da Média\n",
      "2020-10-09 \t 55183 \t 1.2290247163899202 \t Acima da Média\n",
      "2020-10-08 \t 54660 \t 1.203730261865683 \t Acima da Média\n",
      "2020-10-07 \t 54292 \t 1.185932251798916 \t Acima da Média\n",
      "2020-10-06 \t 53894 \t 1.166683316998445 \t Acima da Média\n",
      "2020-10-05 \t 53371 \t 1.1413888624742081 \t Acima da Média\n",
      "2020-10-04 \t 53307 \t 1.1382935563756398 \t Acima da Média\n",
      "2020-10-03 \t 53210 \t 1.1336022330699975 \t Acima da Média\n",
      "2020-10-02 \t 52631 \t 1.1055993857095132 \t Acima da Média\n",
      "2020-10-01 \t 52039 \t 1.0769678042977575 \t Acima da Média\n",
      "2020-09-30 \t 51625 \t 1.0569450429726444 \t Acima da Média\n",
      "2020-09-29 \t 50862 \t 1.0200431905787768 \t Acima da Média\n",
      "2020-09-28 \t 50016 \t 0.9791271130883284 \t Acima da Média\n",
      "2020-09-27 \t 49959 \t 0.9763703560942911 \t Acima da Média\n",
      "2020-09-26 \t 49897 \t 0.9733717783113032 \t Acima da Média\n",
      "2020-09-25 \t 49237 \t 0.9414514341698187 \t Acima da Média\n",
      "2020-09-24 \t 48753 \t 0.9180431817993967 \t Acima da Média\n",
      "2020-09-23 \t 48389 \t 0.9004386283637901 \t Acima da Média\n",
      "2020-09-22 \t 47977 \t 0.8805125953542573 \t Acima da Média\n",
      "2020-09-21 \t 47599 \t 0.8622309437095889 \t Acima da Média\n",
      "2020-09-20 \t 47559 \t 0.8602963773979838 \t Acima da Média\n",
      "2020-09-19 \t 47484 \t 0.8566690655637241 \t Acima da Média\n",
      "2020-09-18 \t 47111 \t 0.8386292347080064 \t Acima da Média\n",
      "2020-09-17 \t 46604 \t 0.8141086067084115 \t Acima da Média\n",
      "2020-09-16 \t 46236 \t 0.7963105966416444 \t Acima da Média\n",
      "2020-09-15 \t 45909 \t 0.7804955170442724 \t Acima da Média\n",
      "2020-09-14 \t 45461 \t 0.7588283743542952 \t Acima da Média\n",
      "2020-09-13 \t 45396 \t 0.7556847040979368 \t Acima da Média\n",
      "2020-09-12 \t 45327 \t 0.752347577210418 \t Acima da Média\n",
      "2020-09-11 \t 45021 \t 0.7375481449266388 \t Acima da Média\n",
      "2020-09-10 \t 44709 \t 0.7224585276961188 \t Acima da Média\n",
      "2020-09-09 \t 44398 \t 0.707417274623389 \t Acima da Média\n",
      "2020-09-08 \t 44068 \t 0.6914571025526468 \t Acima da Média\n",
      "2020-09-07 \t 44003 \t 0.6883134322962884 \t Acima da Média\n",
      "2020-09-06 \t 43981 \t 0.6872494208249056 \t Acima da Média\n",
      "2020-09-05 \t 43943 \t 0.6854115828288807 \t Acima da Média\n",
      "2020-09-04 \t 43672 \t 0.672304896067756 \t Acima da Média\n",
      "2020-09-03 \t 43407 \t 0.6594883942533721 \t Acima da Média\n",
      "2020-09-02 \t 43133 \t 0.6462366150188771 \t Acima da Média\n",
      "2020-09-01 \t 42690 \t 0.6248112931178503 \t Acima da Média\n",
      "2020-08-31 \t 42446 \t 0.6130104386170591 \t Acima da Média\n",
      "2020-08-30 \t 42398 \t 0.6106889590431329 \t Acima da Média\n",
      "2020-08-29 \t 42346 \t 0.6081740228380462 \t Acima da Média\n",
      "2020-08-28 \t 42094 \t 0.595986255074934 \t Acima da Média\n",
      "2020-08-27 \t 41762 \t 0.5799293546886115 \t Acima da Média\n",
      "2020-08-26 \t 41541 \t 0.5692408758169931 \t Acima da Média\n",
      "2020-08-25 \t 41202 \t 0.5528454263261398 \t Acima da Média\n",
      "2020-08-24 \t 40859 \t 0.5362565202041258 \t Acima da Média\n",
      "2020-08-23 \t 40839 \t 0.5352892370483233 \t Acima da Média\n",
      "2020-08-22 \t 40773 \t 0.5320972026341748 \t Acima da Média\n",
      "2020-08-21 \t 40460 \t 0.5169592212458647 \t Acima da Média\n",
      "2020-08-20 \t 40366 \t 0.5124129904135927 \t Acima da Média\n",
      "2020-08-19 \t 40050 \t 0.49712991655191224 \t Acima da Média\n",
      "2020-08-18 \t 39766 \t 0.4833944957395159 \t Acima da Média\n",
      "2020-08-17 \t 39563 \t 0.4735765717081199 \t Acima da Média\n",
      "2020-08-16 \t 39420 \t 0.46666049714413155 \t Acima da Média\n",
      "2020-08-15 \t 39044 \t 0.44847557381504344 \t Acima da Média\n",
      "2020-08-14 \t 39037 \t 0.44813702471051253 \t Acima da Média\n",
      "2020-08-13 \t 38744 \t 0.433966326478005 \t Acima da Média\n",
      "2020-08-12 \t 38347 \t 0.41476575583532416 \t Acima da Média\n",
      "2020-08-11 \t 37995 \t 0.39774157229319906 \t Acima da Média\n",
      "2020-08-10 \t 37637 \t 0.38042720380433326 \t Acima da Média\n",
      "2020-08-09 \t 37579 \t 0.3776220826525058 \t Acima da Média\n",
      "2020-08-08 \t 37267 \t 0.36253246542198586 \t Acima da Média\n",
      "2020-08-07 \t 37218 \t 0.3601626216902696 \t Acima da Média\n",
      "2020-08-06 \t 36947 \t 0.3470559349291449 \t Acima da Média\n",
      "2020-08-05 \t 36671 \t 0.33370742737906955 \t Acima da Média\n",
      "2020-08-04 \t 36399 \t 0.3205523764601547 \t Acima da Média\n",
      "2020-08-03 \t 36052 \t 0.30377001370698026 \t Acima da Média\n",
      "2020-08-02 \t 36030 \t 0.30270600223559746 \t Acima da Média\n",
      "2020-08-01 \t 35987 \t 0.30062634345062195 \t Acima da Média\n",
      "2020-07-31 \t 35592 \t 0.2815225011235214 \t Acima da Média\n",
      "2020-07-30 \t 35269 \t 0.26590087815731 \t Acima da Média\n",
      "2020-07-29 \t 34826 \t 0.24447555625628328 \t Acima da Média\n",
      "2020-07-28 \t 34451 \t 0.22633899708498528 \t Acima da Média\n",
      "2020-07-27 \t 34101 \t 0.20941154185844046 \t Acima da Média\n",
      "2020-07-26 \t 33597 \t 0.18503600633221592 \t Acima da Média\n",
      "2020-07-25 \t 33585 \t 0.1844556364387344 \t Acima da Média\n",
      "2020-07-24 \t 33564 \t 0.1834399891251417 \t Acima da Média\n",
      "2020-07-23 \t 33100 \t 0.16099901991052226 \t Acima da Média\n",
      "2020-07-22 \t 32496 \t 0.13178706860528494 \t Acima da Média\n",
      "2020-07-21 \t 32443 \t 0.12922376824240814 \t Acima da Média\n",
      "2020-07-20 \t 32259 \t 0.12032476320902458 \t Acima da Média\n",
      "2020-07-19 \t 32227 \t 0.11877711015974049 \t Acima da Média\n",
      "2020-07-18 \t 32094 \t 0.11234467717365346 \t Acima da Média\n",
      "2020-07-17 \t 31350 \t 0.07636174377779818 \t Acima da Média\n",
      "2020-07-16 \t 31306 \t 0.07423372083503255 \t Acima da Média\n",
      "2020-07-15 \t 31268 \t 0.07239588283900768 \t Acima da Média\n",
      "2020-07-14 \t 31053 \t 0.06199758891413015 \t Acima da Média\n",
      "2020-07-13 \t 30640 \t 0.04202319174680726 \t Acima da Média\n",
      "2020-07-12 \t 30217 \t 0.0215651530015831 \t Acima da Média\n",
      "2020-07-11 \t 30197 \t 0.020597869845780537 \t Acima da Média\n",
      "2020-07-10 \t 30169 \t 0.01924367342765695 \t Acima da Média\n",
      "2020-07-09 \t 29836 \t 0.0031384088835443094 \t Acima da Média\n",
      "2020-07-08 \t 29396 \t -0.018141820544112033 \t Abaixo da Média\n",
      "2020-07-07 \t 29156 \t -0.029749218413742767 \t Abaixo da Média\n",
      "2020-07-06 \t 28871 \t -0.043533003383929264 \t Abaixo da Média\n",
      "2020-07-05 \t 28854 \t -0.04435519406636144 \t Abaixo da Média\n",
      "2020-07-04 \t 28779 \t -0.047982505900621045 \t Abaixo da Média\n",
      "2020-07-03 \t 28449 \t -0.0639426779713633 \t Abaixo da Média\n",
      "2020-07-02 \t 28128 \t -0.0794675726219944 \t Abaixo da Média\n",
      "2020-07-01 \t 27820 \t -0.09436373322135384 \t Abaixo da Média\n",
      "2020-06-30 \t 27169 \t -0.1258487999427272 \t Abaixo da Média\n",
      "2020-06-29 \t 27132 \t -0.12763827378096196 \t Abaixo da Média\n",
      "2020-06-28 \t 27122 \t -0.12812191535886322 \t Abaixo da Média\n",
      "2020-06-27 \t 26842 \t -0.14166387954009907 \t Abaixo da Média\n",
      "2020-06-26 \t 26783 \t -0.14451736484971664 \t Abaixo da Média\n",
      "2020-06-25 \t 26483 \t -0.15902661218675504 \t Abaixo da Média\n",
      "2020-06-24 \t 26153 \t -0.1749867842574973 \t Abaixo da Média\n",
      "2020-06-23 \t 25710 \t -0.19641210615852403 \t Abaixo da Média\n",
      "2020-06-22 \t 25153 \t -0.22335094204762537 \t Abaixo da Média\n",
      "2020-06-21 \t 25103 \t -0.22576914993713176 \t Abaixo da Média\n",
      "2020-06-20 \t 24978 \t -0.23181466966089778 \t Abaixo da Média\n",
      "2020-06-19 \t 24581 \t -0.2510152403035786 \t Abaixo da Média\n",
      "2020-06-18 \t 24154 \t -0.2716667356799633 \t Abaixo da Média\n",
      "2020-06-17 \t 24089 \t -0.2748104059363216 \t Abaixo da Média\n",
      "2020-06-16 \t 23612 \t -0.2978801092022127 \t Abaixo da Média\n",
      "2020-06-15 \t 23138 \t -0.32080471999473337 \t Abaixo da Média\n",
      "2020-06-14 \t 23101 \t -0.3225941938329681 \t Abaixo da Média\n",
      "2020-06-13 \t 22894 \t -0.33260557449552464 \t Abaixo da Média\n",
      "2020-06-12 \t 22635 \t -0.3451318913631678 \t Abaixo da Média\n"
     ]
    },
    {
     "name": "stdout",
     "output_type": "stream",
     "text": [
      "2020-06-11 \t 22504 \t -0.35146759603367456 \t Abaixo da Média\n",
      "2020-06-10 \t 22159 \t -0.36815323047126874 \t Abaixo da Média\n",
      "2020-06-09 \t 21605 \t -0.3949469738869997 \t Abaixo da Média\n",
      "2020-06-08 \t 20948 \t -0.4267222255551138 \t Abaixo da Média\n",
      "2020-06-07 \t 20837 \t -0.43209064706981803 \t Abaixo da Média\n",
      "2020-06-06 \t 20785 \t -0.43460558327490467 \t Abaixo da Média\n",
      "2020-06-05 \t 20422 \t -0.45216177255272116 \t Abaixo da Média\n",
      "2020-06-04 \t 19962 \t -0.4744092851361801 \t Abaixo da Média\n",
      "2020-06-03 \t 19043 \t -0.5188559461453077 \t Abaixo da Média\n",
      "2020-06-02 \t 18981 \t -0.5218545239282957 \t Abaixo da Média\n",
      "2020-06-01 \t 18367 \t -0.5515501168114343 \t Abaixo da Média\n",
      "2020-05-31 \t 18293 \t -0.5551290644879038 \t Abaixo da Média\n",
      "2020-05-30 \t 18139 \t -0.5625771447875835 \t Abaixo da Média\n",
      "2020-05-29 \t 17492 \t -0.5938687548777963 \t Abaixo da Média\n",
      "2020-05-28 \t 15769 \t -0.677200198750187 \t Abaixo da Média\n",
      "2020-05-27 \t 14800 \t -0.7240650676488211 \t Abaixo da Média\n",
      "2020-05-26 \t 14402 \t -0.743314002449292 \t Abaixo da Média\n",
      "2020-05-25 \t 13979 \t -0.7637720411945162 \t Abaixo da Média\n",
      "2020-05-24 \t 13881 \t -0.7685117286579488 \t Abaixo da Média\n",
      "2020-05-23 \t 13624 \t -0.7809413172100117 \t Abaixo da Média\n",
      "2020-05-22 \t 12967 \t -0.8127165688781258 \t Abaixo da Média\n",
      "2020-05-21 \t 12317 \t -0.844153271441709 \t Abaixo da Média\n",
      "2020-05-20 \t 11643 \t -0.8767507137922553 \t Abaixo da Média\n",
      "2020-05-19 \t 11051 \t -0.9053822952040111 \t Abaixo da Média\n",
      "2020-05-18 \t 10660 \t -0.9242926808999512 \t Abaixo da Média\n",
      "2020-05-17 \t 10407 \t -0.9365288128208537 \t Abaixo da Média\n",
      "2020-05-16 \t 10297 \t -0.9418488701777677 \t Abaixo da Média\n",
      "2020-05-15 \t 9713 \t -0.9700935383272025 \t Abaixo da Média\n",
      "2020-05-14 \t 9410 \t -0.9847478781376113 \t Abaixo da Média\n",
      "2020-05-13 \t 8630 \t -1.0224719212139113 \t Abaixo da Média\n",
      "2020-05-12 \t 7877 \t -1.0588901320298776 \t Abaixo da Média\n",
      "2020-05-11 \t 7264 \t -1.088537360755226 \t Abaixo da Média\n",
      "2020-05-10 \t 7198 \t -1.0917293951693745 \t Abaixo da Média\n",
      "2020-05-09 \t 6743 \t -1.113735086963883 \t Abaixo da Média\n",
      "2020-05-08 \t 6034 \t -1.1480252748370836 \t Abaixo da Média\n",
      "2020-05-07 \t 5897 \t -1.1546511644543311 \t Abaixo da Média\n",
      "2020-05-06 \t 5474 \t -1.1751092031995554 \t Abaixo da Média\n",
      "2020-05-05 \t 4804 \t -1.207513188918941 \t Abaixo da Média\n",
      "2020-05-04 \t 4344 \t -1.2297607015024 \t Abaixo da Média\n",
      "2020-05-03 \t 4072 \t -1.2429157524213148 \t Abaixo da Média\n",
      "2020-05-02 \t 3658 \t -1.262938513746428 \t Abaixo da Média\n",
      "2020-05-01 \t 3491 \t -1.2710153280973793 \t Abaixo da Média\n",
      "2020-04-30 \t 3273 \t -1.281558714495627 \t Abaixo da Média\n",
      "2020-04-29 \t 3091 \t -1.2903609912134304 \t Abaixo da Média\n",
      "2020-04-28 \t 2899 \t -1.299646909509135 \t Abaixo da Média\n",
      "2020-04-27 \t 2738 \t -1.3074335389133456 \t Abaixo da Média\n",
      "2020-04-26 \t 2722 \t -1.3082073654379878 \t Abaixo da Média\n",
      "2020-04-25 \t 2678 \t -1.3103353883807534 \t Abaixo da Média\n",
      "2020-04-24 \t 2481 \t -1.3198631274654087 \t Abaixo da Média\n",
      "2020-04-23 \t 2286 \t -1.3292941382344836 \t Abaixo da Média\n",
      "2020-04-22 \t 1958 \t -1.3451575819896455 \t Abaixo da Média\n",
      "2020-04-21 \t 1809 \t -1.3523638415003747 \t Abaixo da Média\n",
      "2020-04-20 \t 1772 \t -1.3541533153386094 \t Abaixo da Média\n",
      "2020-04-19 \t 1664 \t -1.359376644379943 \t Abaixo da Média\n",
      "2020-04-18 \t 1593 \t -1.3628104995830423 \t Abaixo da Média\n",
      "2020-04-17 \t 1531 \t -1.3658090773660303 \t Abaixo da Média\n",
      "2020-04-16 \t 1459 \t -1.3692912967269195 \t Abaixo da Média\n",
      "2020-04-15 \t 1350 \t -1.3745629899260434 \t Abaixo da Média\n",
      "2020-04-14 \t 1295 \t -1.3772230186045005 \t Abaixo da Média\n",
      "2020-04-13 \t 1106 \t -1.3863638444268347 \t Abaixo da Média\n",
      "2020-04-12 \t 1053 \t -1.3889271447897114 \t Abaixo da Média\n",
      "2020-04-11 \t 932 \t -1.394779207882317 \t Abaixo da Média\n",
      "2020-04-10 \t 863 \t -1.3981163347698358 \t Abaixo da Média\n",
      "2020-04-09 \t 800 \t -1.401163276710614 \t Abaixo da Média\n",
      "2020-04-08 \t 712 \t -1.405419322596145 \t Abaixo da Média\n",
      "2020-04-07 \t 560 \t -1.4127706745802446 \t Abaixo da Média\n",
      "2020-04-06 \t 473 \t -1.4169783563079856 \t Abaixo da Média\n",
      "2020-04-05 \t 379 \t -1.4215245871402578 \t Abaixo da Média\n",
      "2020-04-04 \t 283 \t -1.42616754628811 \t Abaixo da Média\n",
      "2020-04-03 \t 232 \t -1.4286341183354065 \t Abaixo da Média\n",
      "2020-04-02 \t 205 \t -1.42993995059574 \t Abaixo da Média\n",
      "2020-04-01 \t 179 \t -1.4311974186982834 \t Abaixo da Média\n",
      "2020-03-31 \t 159 \t -1.432164701854086 \t Abaixo da Média\n",
      "2020-03-30 \t 140 \t -1.4330836208520983 \t Abaixo da Média\n",
      "2020-03-29 \t 131 \t -1.4335188982722096 \t Abaixo da Média\n",
      "2020-03-28 \t 105 \t -1.4347763663747528 \t Abaixo da Média\n",
      "2020-03-27 \t 75 \t -1.4362272911084566 \t Abaixo da Média\n",
      "2020-03-26 \t 63 \t -1.4368076610019382 \t Abaixo da Média\n",
      "2020-03-25 \t 52 \t -1.4373396667376297 \t Abaixo da Média\n",
      "2020-03-24 \t 45 \t -1.4376782158421606 \t Abaixo da Média\n",
      "2020-03-23 \t 31 \t -1.4383553140512222 \t Abaixo da Média\n",
      "2020-03-22 \t 25 \t -1.4386454989979631 \t Abaixo da Média\n",
      "2020-03-21 \t 11 \t -1.439322597207025 \t Abaixo da Média\n",
      "2020-03-20 \t 7 \t -1.4395160538381855 \t Abaixo da Média\n",
      "2020-03-19 \t 3 \t -1.4397095104693458 \t Abaixo da Média\n",
      "2020-03-18 \t 2 \t -1.439757874627136 \t Abaixo da Média\n",
      "2020-03-13 \t 2 \t -1.439757874627136 \t Abaixo da Média\n"
     ]
    }
   ],
   "source": [
    "print('DATE\\tCONFIRMED\\tESCORE Z')\n",
    "for index, row in covid19_manaus.iterrows():\n",
    "    #print(row['year'], row['suicides_no'])    \n",
    "    escore_z = (row['confirmed'] - covid19_manaus['confirmed'].mean())/covid19_manaus['confirmed'].std()\n",
    "    print(row['date'],'\\t',row['confirmed'],'\\t',escore_z,'\\t',situacao_escore_media(escore_z))"
   ]
  },
  {
   "cell_type": "markdown",
   "metadata": {},
   "source": [
    "<h4> II - Casos mortes</h4>"
   ]
  },
  {
   "cell_type": "code",
   "execution_count": 20,
   "metadata": {},
   "outputs": [
    {
     "name": "stdout",
     "output_type": "stream",
     "text": [
      "DATE\tDEATHS\tESCORE Z\n",
      "2020-11-16 \t 2989 \t 1.4030075021180657 \t Acima da Média\n",
      "2020-11-15 \t 2987 \t 1.400917663455997 \t Acima da Média\n",
      "2020-11-13 \t 2974 \t 1.3873337121525517 \t Acima da Média\n",
      "2020-11-12 \t 2973 \t 1.3862887928215175 \t Acima da Média\n",
      "2020-11-11 \t 2952 \t 1.364345486869798 \t Acima da Média\n",
      "2020-11-10 \t 2951 \t 1.3633005675387637 \t Acima da Média\n",
      "2020-11-09 \t 2949 \t 1.3612107288766953 \t Acima da Média\n",
      "2020-11-08 \t 2935 \t 1.3465818582422155 \t Acima da Média\n",
      "2020-11-07 \t 2934 \t 1.3455369389111813 \t Acima da Média\n",
      "2020-11-05 \t 2926 \t 1.3371775842629072 \t Acima da Média\n",
      "2020-11-04 \t 2913 \t 1.323593632959462 \t Acima da Média\n",
      "2020-11-03 \t 2906 \t 1.3162791976422221 \t Acima da Média\n",
      "2020-11-02 \t 2902 \t 1.3120995203180852 \t Acima da Média\n",
      "2020-11-01 \t 2895 \t 1.3047850850008453 \t Acima da Média\n",
      "2020-10-31 \t 2889 \t 1.2985155690146397 \t Acima da Média\n",
      "2020-10-30 \t 2879 \t 1.2880663757042972 \t Acima da Média\n",
      "2020-10-29 \t 2873 \t 1.2817968597180915 \t Acima da Média\n",
      "2020-10-28 \t 2853 \t 1.2608984730974064 \t Acima da Média\n",
      "2020-10-27 \t 2842 \t 1.2494043604560297 \t Acima da Média\n",
      "2020-10-26 \t 2834 \t 1.2410450058077556 \t Acima da Média\n",
      "2020-10-25 \t 2825 \t 1.2316407318284472 \t Acima da Média\n",
      "2020-10-24 \t 2818 \t 1.2243262965112074 \t Acima da Média\n",
      "2020-10-23 \t 2818 \t 1.2243262965112074 \t Acima da Média\n",
      "2020-10-22 \t 2796 \t 1.2013380712284536 \t Acima da Média\n",
      "2020-10-20 \t 2768 \t 1.1720803299594944 \t Acima da Média\n",
      "2020-10-18 \t 2753 \t 1.1564065399939807 \t Acima da Média\n",
      "2020-10-17 \t 2750 \t 1.1532717820008778 \t Acima da Média\n",
      "2020-10-14 \t 2706 \t 1.1072953314353704 \t Acima da Média\n",
      "2020-10-13 \t 2694 \t 1.0947562994629594 \t Acima da Média\n",
      "2020-10-12 \t 2691 \t 1.0916215414698565 \t Acima da Média\n",
      "2020-10-11 \t 2685 \t 1.085352025483651 \t Acima da Média\n",
      "2020-10-10 \t 2683 \t 1.0832621868215826 \t Acima da Média\n",
      "2020-10-09 \t 2673 \t 1.0728129935112398 \t Acima da Média\n",
      "2020-10-08 \t 2668 \t 1.0675883968560687 \t Acima da Média\n",
      "2020-10-07 \t 2662 \t 1.061318880869863 \t Acima da Média\n",
      "2020-10-06 \t 2654 \t 1.052959526221589 \t Acima da Média\n",
      "2020-10-05 \t 2649 \t 1.0477349295664178 \t Acima da Média\n",
      "2020-10-04 \t 2642 \t 1.040420494249178 \t Acima da Média\n",
      "2020-10-03 \t 2639 \t 1.037285736256075 \t Acima da Média\n",
      "2020-10-02 \t 2633 \t 1.0310162202698696 \t Acima da Média\n",
      "2020-10-01 \t 2631 \t 1.0289263816078011 \t Acima da Média\n",
      "2020-09-30 \t 2516 \t 0.9087606585388613 \t Acima da Média\n",
      "2020-09-29 \t 2512 \t 0.9045809812147243 \t Acima da Média\n",
      "2020-09-28 \t 2510 \t 0.9024911425526557 \t Acima da Média\n",
      "2020-09-27 \t 2509 \t 0.9014462232216215 \t Acima da Média\n",
      "2020-09-26 \t 2507 \t 0.899356384559553 \t Acima da Média\n",
      "2020-09-25 \t 2487 \t 0.8784579979388678 \t Acima da Média\n",
      "2020-09-24 \t 2481 \t 0.8721884819526623 \t Acima da Média\n",
      "2020-09-23 \t 2476 \t 0.866963885297491 \t Acima da Média\n",
      "2020-09-22 \t 2462 \t 0.8523350146630113 \t Acima da Média\n",
      "2020-09-21 \t 2462 \t 0.8523350146630113 \t Acima da Média\n",
      "2020-09-20 \t 2460 \t 0.8502451760009428 \t Acima da Média\n",
      "2020-09-19 \t 2460 \t 0.8502451760009428 \t Acima da Média\n",
      "2020-09-18 \t 2456 \t 0.8460654986768058 \t Acima da Média\n",
      "2020-09-17 \t 2443 \t 0.8324815473733604 \t Acima da Média\n",
      "2020-09-16 \t 2440 \t 0.8293467893802576 \t Acima da Média\n",
      "2020-09-15 \t 2435 \t 0.8241221927250864 \t Acima da Média\n",
      "2020-09-14 \t 2431 \t 0.8199425154009493 \t Acima da Média\n",
      "2020-09-13 \t 2428 \t 0.8168077574078466 \t Acima da Média\n",
      "2020-09-12 \t 2427 \t 0.8157628380768123 \t Acima da Média\n",
      "2020-09-11 \t 2424 \t 0.8126280800837096 \t Acima da Média\n",
      "2020-09-10 \t 2419 \t 0.8074034834285383 \t Acima da Média\n",
      "2020-09-09 \t 2415 \t 0.8032238061044013 \t Acima da Média\n",
      "2020-09-08 \t 2411 \t 0.7990441287802642 \t Acima da Média\n",
      "2020-09-07 \t 2409 \t 0.7969542901181956 \t Acima da Média\n",
      "2020-09-06 \t 2409 \t 0.7969542901181956 \t Acima da Média\n",
      "2020-09-05 \t 2408 \t 0.7959093707871614 \t Acima da Média\n",
      "2020-09-04 \t 2404 \t 0.7917296934630244 \t Acima da Média\n",
      "2020-09-03 \t 2401 \t 0.7885949354699215 \t Acima da Média\n",
      "2020-09-02 \t 2399 \t 0.7865050968078531 \t Acima da Média\n",
      "2020-09-01 \t 2251 \t 0.6318570358147828 \t Acima da Média\n",
      "2020-08-31 \t 2248 \t 0.62872227782168 \t Acima da Média\n",
      "2020-08-30 \t 2246 \t 0.6266324391596115 \t Acima da Média\n",
      "2020-08-29 \t 2244 \t 0.624542600497543 \t Acima da Média\n",
      "2020-08-28 \t 2243 \t 0.6234976811665087 \t Acima da Média\n",
      "2020-08-27 \t 2232 \t 0.6120035685251319 \t Acima da Média\n",
      "2020-08-26 \t 2219 \t 0.5984196172216866 \t Acima da Média\n",
      "2020-08-25 \t 2209 \t 0.5879704239113439 \t Acima da Média\n",
      "2020-08-24 \t 2198 \t 0.5764763112699671 \t Acima da Média\n",
      "2020-08-23 \t 2195 \t 0.5733415532768643 \t Acima da Média\n",
      "2020-08-22 \t 2190 \t 0.568116956621693 \t Acima da Média\n",
      "2020-08-21 \t 2189 \t 0.5670720372906588 \t Acima da Média\n",
      "2020-08-20 \t 2188 \t 0.5660271179596246 \t Acima da Média\n",
      "2020-08-19 \t 2181 \t 0.5587126826423847 \t Acima da Média\n",
      "2020-08-18 \t 2176 \t 0.5534880859872134 \t Acima da Média\n",
      "2020-08-17 \t 2159 \t 0.535724457359631 \t Acima da Média\n",
      "2020-08-16 \t 2140 \t 0.5158709900699802 \t Acima da Média\n",
      "2020-08-15 \t 2124 \t 0.499152280773432 \t Acima da Média\n",
      "2020-08-14 \t 2123 \t 0.4981073614423977 \t Acima da Média\n",
      "2020-08-13 \t 2107 \t 0.4813886521458496 \t Acima da Média\n",
      "2020-08-12 \t 2096 \t 0.46989453950447274 \t Acima da Média\n",
      "2020-08-11 \t 2087 \t 0.4604902655251644 \t Acima da Média\n",
      "2020-08-10 \t 2070 \t 0.442726636897582 \t Acima da Média\n",
      "2020-08-09 \t 2051 \t 0.4228731696079311 \t Acima da Média\n",
      "2020-08-08 \t 2050 \t 0.42182825027689685 \t Acima da Média\n",
      "2020-08-07 \t 2043 \t 0.41451381495965706 \t Acima da Média\n",
      "2020-08-06 \t 2040 \t 0.41137905696655425 \t Acima da Média\n",
      "2020-08-05 \t 2036 \t 0.4071993796424172 \t Acima da Média\n",
      "2020-08-04 \t 2027 \t 0.3977951056631089 \t Acima da Média\n",
      "2020-08-03 \t 2021 \t 0.3915255896769034 \t Acima da Média\n",
      "2020-08-02 \t 2019 \t 0.38943575101483485 \t Acima da Média\n",
      "2020-08-01 \t 2016 \t 0.38630099302173204 \t Acima da Média\n",
      "2020-07-31 \t 2013 \t 0.3831662350286293 \t Acima da Média\n",
      "2020-07-30 \t 2003 \t 0.3727170417182867 \t Acima da Média\n",
      "2020-07-29 \t 2001 \t 0.37062720305621816 \t Acima da Média\n",
      "2020-07-28 \t 1995 \t 0.36435768707001265 \t Acima da Média\n",
      "2020-07-27 \t 1988 \t 0.3570432517527728 \t Acima da Média\n",
      "2020-07-26 \t 1987 \t 0.35599833242173856 \t Acima da Média\n",
      "2020-07-25 \t 1985 \t 0.35390849375967004 \t Acima da Média\n",
      "2020-07-24 \t 1978 \t 0.34659405844243024 \t Acima da Média\n",
      "2020-07-23 \t 1977 \t 0.34554913911139595 \t Acima da Média\n",
      "2020-07-22 \t 1974 \t 0.3424143811182932 \t Acima da Média\n",
      "2020-07-21 \t 1964 \t 0.3319651878079506 \t Acima da Média\n",
      "2020-07-20 \t 1957 \t 0.3246507524907108 \t Acima da Média\n",
      "2020-07-19 \t 1963 \t 0.33092026847691636 \t Acima da Média\n",
      "2020-07-18 \t 1949 \t 0.31629139784243676 \t Acima da Média\n",
      "2020-07-17 \t 1947 \t 0.31420155918036824 \t Acima da Média\n",
      "2020-07-16 \t 1928 \t 0.2943480918907173 \t Acima da Média\n",
      "2020-07-15 \t 1922 \t 0.28807857590451175 \t Acima da Média\n",
      "2020-07-14 \t 1914 \t 0.2797192212562377 \t Acima da Média\n",
      "2020-07-13 \t 1909 \t 0.2744946246010664 \t Acima da Média\n",
      "2020-07-12 \t 1905 \t 0.27031494727692934 \t Acima da Média\n",
      "2020-07-11 \t 1891 \t 0.25568607664244974 \t Acima da Média\n",
      "2020-07-10 \t 1884 \t 0.24837164132520995 \t Acima da Média\n",
      "2020-07-09 \t 1870 \t 0.23374277069073032 \t Acima da Média\n",
      "2020-07-08 \t 1860 \t 0.22329357738038774 \t Acima da Média\n",
      "2020-07-07 \t 1853 \t 0.21597914206314792 \t Acima da Média\n",
      "2020-07-06 \t 1847 \t 0.20970962607694238 \t Acima da Média\n",
      "2020-07-05 \t 1845 \t 0.20761978741487386 \t Acima da Média\n",
      "2020-07-04 \t 1843 \t 0.20552994875280534 \t Acima da Média\n",
      "2020-07-03 \t 1826 \t 0.18776632012522293 \t Acima da Média\n",
      "2020-07-02 \t 1810 \t 0.1710476108286748 \t Acima da Média\n",
      "2020-07-01 \t 1804 \t 0.16477809484246925 \t Acima da Média\n",
      "2020-06-30 \t 1790 \t 0.15014922420798962 \t Acima da Média\n",
      "2020-06-29 \t 1771 \t 0.13029575691833872 \t Acima da Média\n",
      "2020-06-28 \t 1770 \t 0.12925083758730446 \t Acima da Média\n",
      "2020-06-27 \t 1768 \t 0.12716099892523594 \t Acima da Média\n",
      "2020-06-26 \t 1747 \t 0.10521769297351652 \t Acima da Média\n",
      "2020-06-25 \t 1743 \t 0.10103801564937949 \t Acima da Média\n",
      "2020-06-24 \t 1735 \t 0.09267866100110542 \t Acima da Média\n",
      "2020-06-23 \t 1727 \t 0.08431930635283134 \t Acima da Média\n",
      "2020-06-22 \t 1719 \t 0.07595995170455729 \t Acima da Média\n",
      "2020-06-21 \t 1711 \t 0.06760059705628321 \t Acima da Média\n",
      "2020-06-20 \t 1706 \t 0.062376000401111915 \t Acima da Média\n",
      "2020-06-19 \t 1685 \t 0.04043269444939249 \t Acima da Média\n",
      "2020-06-18 \t 1678 \t 0.03311825913215268 \t Acima da Média\n",
      "2020-06-17 \t 1660 \t 0.014309711173536027 \t Acima da Média\n",
      "2020-06-16 \t 1645 \t -0.0013640787919778513 \t Abaixo da Média\n"
     ]
    },
    {
     "name": "stdout",
     "output_type": "stream",
     "text": [
      "2020-06-15 \t 1620 \t -0.027487062067834314 \t Abaixo da Média\n",
      "2020-06-14 \t 1614 \t -0.033756578054039865 \t Abaixo da Média\n",
      "2020-06-13 \t 1596 \t -0.05256512601265652 \t Abaixo da Média\n",
      "2020-06-12 \t 1576 \t -0.0734635126333417 \t Abaixo da Média\n",
      "2020-06-11 \t 1560 \t -0.09018222192988982 \t Abaixo da Média\n",
      "2020-06-10 \t 1534 \t -0.11735012453678055 \t Abaixo da Média\n",
      "2020-06-09 \t 1501 \t -0.1518324624609111 \t Abaixo da Média\n",
      "2020-06-08 \t 1475 \t -0.1790003650678018 \t Abaixo da Média\n",
      "2020-06-07 \t 1466 \t -0.18840463904711013 \t Abaixo da Média\n",
      "2020-06-06 \t 1462 \t -0.19258431637124715 \t Abaixo da Média\n",
      "2020-06-05 \t 1432 \t -0.22393189630227492 \t Abaixo da Média\n",
      "2020-06-04 \t 1417 \t -0.2396056862677888 \t Abaixo da Média\n",
      "2020-06-03 \t 1407 \t -0.2500548795781314 \t Abaixo da Média\n",
      "2020-06-02 \t 1390 \t -0.2678185082057138 \t Abaixo da Média\n",
      "2020-06-01 \t 1371 \t -0.28767197549536466 \t Abaixo da Média\n",
      "2020-05-31 \t 1366 \t -0.292896572150536 \t Abaixo da Média\n",
      "2020-05-30 \t 1366 \t -0.292896572150536 \t Abaixo da Média\n",
      "2020-05-29 \t 1349 \t -0.31066020077811834 \t Abaixo da Média\n",
      "2020-05-28 \t 1314 \t -0.34723237736431745 \t Abaixo da Média\n",
      "2020-05-27 \t 1272 \t -0.3911189892677563 \t Abaixo da Média\n",
      "2020-05-26 \t 1248 \t -0.4161970532125785 \t Abaixo da Média\n",
      "2020-05-25 \t 1190 \t -0.47680237441256546 \t Abaixo da Média\n",
      "2020-05-24 \t 1182 \t -0.48516172906083954 \t Abaixo da Média\n",
      "2020-05-23 \t 1176 \t -0.4914312450470451 \t Abaixo da Média\n",
      "2020-05-22 \t 1127 \t -0.5426322922677238 \t Abaixo da Média\n",
      "2020-05-21 \t 1094 \t -0.5771146301918543 \t Abaixo da Média\n",
      "2020-05-20 \t 1057 \t -0.6157766454401219 \t Abaixo da Média\n",
      "2020-05-19 \t 999 \t -0.6763819666401089 \t Abaixo da Média\n",
      "2020-05-18 \t 951 \t -0.7265380945297533 \t Abaixo da Média\n",
      "2020-05-17 \t 949 \t -0.7286279331918217 \t Abaixo da Média\n",
      "2020-05-16 \t 920 \t -0.7589305937918153 \t Abaixo da Média\n",
      "2020-05-15 \t 888 \t -0.7923680123849115 \t Abaixo da Média\n",
      "2020-05-14 \t 809 \t -0.874916639536618 \t Abaixo da Média\n",
      "2020-05-13 \t 757 \t -0.9292524447503994 \t Abaixo da Média\n",
      "2020-05-12 \t 726 \t -0.9616449440124615 \t Abaixo da Média\n",
      "2020-05-11 \t 691 \t -0.9982171205986605 \t Abaixo da Média\n",
      "2020-05-10 \t 680 \t -1.0097112332400373 \t Abaixo da Média\n",
      "2020-05-09 \t 660 \t -1.0306096198607224 \t Abaixo da Média\n",
      "2020-05-08 \t 604 \t -1.089125102398641 \t Abaixo da Média\n",
      "2020-05-07 \t 563 \t -1.1319667949710455 \t Abaixo da Média\n",
      "2020-05-06 \t 532 \t -1.1643592942331076 \t Abaixo da Média\n",
      "2020-05-05 \t 459 \t -1.2406384053986084 \t Abaixo da Média\n",
      "2020-05-04 \t 418 \t -1.283480097971013 \t Abaixo da Média\n",
      "2020-05-03 \t 396 \t -1.3064683232537668 \t Abaixo da Média\n",
      "2020-05-02 \t 368 \t -1.335726064522726 \t Abaixo da Média\n",
      "2020-05-01 \t 357 \t -1.3472201771641028 \t Abaixo da Média\n",
      "2020-04-30 \t 312 \t -1.3942415470606444 \t Abaixo da Média\n",
      "2020-04-29 \t 288 \t -1.4193196110054667 \t Abaixo da Média\n",
      "2020-04-28 \t 274 \t -1.4339484816399464 \t Abaixo da Média\n",
      "2020-04-27 \t 256 \t -1.452757029598563 \t Abaixo da Média\n",
      "2020-04-26 \t 246 \t -1.4632062229089056 \t Abaixo da Média\n",
      "2020-04-25 \t 233 \t -1.4767901742123508 \t Abaixo da Média\n",
      "2020-04-24 \t 207 \t -1.5039580768192415 \t Abaixo da Média\n",
      "2020-04-23 \t 193 \t -1.5185869474537212 \t Abaixo da Média\n",
      "2020-04-22 \t 172 \t -1.5405302534054406 \t Abaixo da Média\n",
      "2020-04-21 \t 163 \t -1.549934527384749 \t Abaixo da Média\n",
      "2020-04-20 \t 156 \t -1.5572489627019888 \t Abaixo da Média\n",
      "2020-04-19 \t 155 \t -1.558293882033023 \t Abaixo da Média\n",
      "2020-04-18 \t 134 \t -1.5802371879847426 \t Abaixo da Média\n",
      "2020-04-17 \t 127 \t -1.5875516233019822 \t Abaixo da Média\n",
      "2020-04-16 \t 107 \t -1.6084500099226675 \t Abaixo da Média\n",
      "2020-04-15 \t 92 \t -1.6241237998881812 \t Abaixo da Média\n",
      "2020-04-14 \t 81 \t -1.6356179125295582 \t Abaixo da Média\n",
      "2020-04-13 \t 60 \t -1.6575612184812776 \t Abaixo da Média\n",
      "2020-04-12 \t 51 \t -1.666965492460586 \t Abaixo da Média\n",
      "2020-04-11 \t 45 \t -1.6732350084467915 \t Abaixo da Média\n",
      "2020-04-10 \t 42 \t -1.6763697664398942 \t Abaixo da Média\n",
      "2020-04-09 \t 33 \t -1.6857740404192025 \t Abaixo da Média\n",
      "2020-04-08 \t 25 \t -1.6941333950674766 \t Abaixo da Média\n",
      "2020-04-07 \t 19 \t -1.7004029110536822 \t Abaixo da Média\n",
      "2020-04-06 \t 15 \t -1.7045825883778192 \t Abaixo da Média\n",
      "2020-04-05 \t 11 \t -1.7087622657019563 \t Abaixo da Média\n",
      "2020-04-04 \t 9 \t -1.7108521043640248 \t Abaixo da Média\n",
      "2020-04-03 \t 5 \t -1.7150317816881617 \t Abaixo da Média\n",
      "2020-04-02 \t 2 \t -1.7181665396812646 \t Abaixo da Média\n",
      "2020-04-01 \t 2 \t -1.7181665396812646 \t Abaixo da Média\n",
      "2020-03-31 \t 2 \t -1.7181665396812646 \t Abaixo da Média\n",
      "2020-03-30 \t 1 \t -1.7192114590122989 \t Abaixo da Média\n",
      "2020-03-29 \t 0 \t -1.7202563783433331 \t Abaixo da Média\n",
      "2020-03-28 \t 0 \t -1.7202563783433331 \t Abaixo da Média\n",
      "2020-03-27 \t 0 \t -1.7202563783433331 \t Abaixo da Média\n",
      "2020-03-26 \t 0 \t -1.7202563783433331 \t Abaixo da Média\n",
      "2020-03-25 \t 0 \t -1.7202563783433331 \t Abaixo da Média\n",
      "2020-03-24 \t 0 \t -1.7202563783433331 \t Abaixo da Média\n",
      "2020-03-23 \t 0 \t -1.7202563783433331 \t Abaixo da Média\n",
      "2020-03-22 \t 0 \t -1.7202563783433331 \t Abaixo da Média\n",
      "2020-03-21 \t 0 \t -1.7202563783433331 \t Abaixo da Média\n",
      "2020-03-20 \t 0 \t -1.7202563783433331 \t Abaixo da Média\n",
      "2020-03-19 \t 0 \t -1.7202563783433331 \t Abaixo da Média\n",
      "2020-03-18 \t 0 \t -1.7202563783433331 \t Abaixo da Média\n",
      "2020-03-13 \t 0 \t -1.7202563783433331 \t Abaixo da Média\n"
     ]
    }
   ],
   "source": [
    "print('DATE\\tDEATHS\\tESCORE Z')\n",
    "for index, row in covid19_manaus.iterrows():\n",
    "    #print(row['year'], row['suicides_no'])    \n",
    "    escore_z = (row['deaths'] - covid19_manaus['deaths'].mean())/covid19_manaus['deaths'].std()\n",
    "    print(row['date'],'\\t',row['deaths'],'\\t',escore_z,'\\t',situacao_escore_media(escore_z))"
   ]
  },
  {
   "cell_type": "markdown",
   "metadata": {},
   "source": [
    "<h3>1.2 - Simetria do conjunto de dados</h3>"
   ]
  },
  {
   "cell_type": "code",
   "execution_count": 25,
   "metadata": {},
   "outputs": [],
   "source": [
    "def status_simetria(dataframe, option):\n",
    "    skewness = dataframe.skew() # mede o grau de simetria da curva que deve é bem próxima de zero\n",
    "    \n",
    "    if option == 'confirmed':\n",
    "        if skewness['confirmed'] > 0:\n",
    "            return 'Valor do Grau de Simetria [casos confirmados]:',skewness['confirmed'],' * Assimétrico Direita - {moda < mediana < média} * Logo, a MEDIA está à direita da MEDIANA'\n",
    "        elif skewness['confirmed'] < 0:\n",
    "            return \"Valor do Grau de Simetria [casos confirmados]: \",skewness['confirmed'],\" * Assimétrico Esquerda - {média < mediana < moda} * Logo, a MEDIA está à esquerda da MEDIANA\"\n",
    "        elif skewness['confirmed'] == 0:\n",
    "            return 'Valor do Grau de Simetria [casos confirmados]:',skewness['confirmed'], ' * Distribuição Simétrica - {moda = mediana = média} * Logo, a MEDIA é igual à MEDIANA'\n",
    "    elif option == 'deaths':\n",
    "        if skewness['deaths'] > 0:\n",
    "            return 'Valor do Grau de Simetria [casos mortes]:',skewness['confirmed'],' * Assimétrico Direita - {moda < mediana < média} * Logo, a MEDIA está à direita da MEDIANA'\n",
    "        elif skewness['deaths'] < 0:\n",
    "            return \"Valor do Grau de Simetria [casos mortes]: \",skewness['confirmed'],\" * Assimétrico Esquerda - {média < mediana < moda} * Logo, a MEDIA está à esquerda da MEDIANA\"\n",
    "        elif skewness['deaths'] == 0:\n",
    "            return 'Valor do Grau de Simetria [casos mortes]:',skewness['confirmed'], ' * Distribuição Simétrica - {moda = mediana = média} * Logo, a MEDIA é igual à MEDIANA'"
   ]
  },
  {
   "cell_type": "code",
   "execution_count": 27,
   "metadata": {},
   "outputs": [
    {
     "name": "stdout",
     "output_type": "stream",
     "text": [
      "('Valor do Grau de Simetria [casos confirmados]:', 0.027574422823471067, ' * Assimétrico Direita - {moda < mediana < média} * Logo, a MEDIA está à direita da MEDIANA')\n",
      "==========================================\n",
      "('Valor do Grau de Simetria [casos mortes]: ', 0.027574422823471067, ' * Assimétrico Esquerda - {média < mediana < moda} * Logo, a MEDIA está à esquerda da MEDIANA')\n"
     ]
    }
   ],
   "source": [
    "print(status_simetria(covid19_manaus,'confirmed'))\n",
    "print('==========================================')\n",
    "print(status_simetria(covid19_manaus,'deaths'))"
   ]
  },
  {
   "cell_type": "markdown",
   "metadata": {},
   "source": [
    "<h3>2 - Medidas de Posição Relativa</h3>"
   ]
  },
  {
   "cell_type": "markdown",
   "metadata": {},
   "source": [
    "<p><strong>Obs.:</strong> o segundo QUARTIL é equivalente a MEDIANA</p>"
   ]
  },
  {
   "cell_type": "code",
   "execution_count": 29,
   "metadata": {},
   "outputs": [
    {
     "name": "stdout",
     "output_type": "stream",
     "text": [
      "+-----------------+-------------+------------+------------+------------+-------------+\n",
      "|       Tipo      | Menor valor | 1º quartil | 2º quartil | 3º quartil | Maior valor |\n",
      "+-----------------+-------------+------------+------------+------------+-------------+\n",
      "| cases confirmed |      2      |  10005.0   |  31053.0   |  45174.0   |    66767    |\n",
      "|   cases deaths  |      0      |   904.0    |   1914.0   |   2425.5   |     2989    |\n",
      "+-----------------+-------------+------------+------------+------------+-------------+\n"
     ]
    }
   ],
   "source": [
    "# from prettytable import PrettyTable   \n",
    "x = PrettyTable()\n",
    "\n",
    "x.field_names = [\"Tipo\", \"Menor valor\", \"1º quartil\", \"2º quartil\", \"3º quartil\", \"Maior valor\"]\n",
    "\n",
    "x.add_row([\"cases confirmed\", \n",
    "           covid19_manaus['confirmed'].min(), \n",
    "           covid19_manaus['confirmed'].quantile(0.25), \n",
    "           covid19_manaus['confirmed'].quantile(0.5),\n",
    "           covid19_manaus['confirmed'].quantile(0.75),\n",
    "           covid19_manaus['confirmed'].max()\n",
    "          ])\n",
    "\n",
    "x.add_row([\"cases deaths\", \n",
    "           covid19_manaus['deaths'].min(), \n",
    "           covid19_manaus['deaths'].quantile(0.25), \n",
    "           covid19_manaus['deaths'].quantile(0.5),\n",
    "           covid19_manaus['deaths'].quantile(0.75),\n",
    "           covid19_manaus['deaths'].max()\n",
    "          ])\n",
    "\n",
    "print(x)"
   ]
  },
  {
   "cell_type": "markdown",
   "metadata": {},
   "source": [
    "<h3>3 - Variância e Desvio Padrão</h3>"
   ]
  },
  {
   "cell_type": "markdown",
   "metadata": {},
   "source": [
    "<h4><strong>Obs.: </strong>O desvio padrão representa uma variação no conjunto que pode ser para cima ou abaxio em relação a média</h4>"
   ]
  },
  {
   "cell_type": "code",
   "execution_count": 31,
   "metadata": {},
   "outputs": [
    {
     "name": "stdout",
     "output_type": "stream",
     "text": [
      "+-----------------+--------------------+-------------------+-----------+-------------------------+\n",
      "|       Tipo      | Variância de Dados |   Desvio Padrão   | Amplitude | Coeficiente de Variação |\n",
      "+-----------------+--------------------+-------------------+-----------+-------------------------+\n",
      "| cases confirmed | 427516362.39147705 | 20676.46880856296 |   66765   |    69.45145697046358    |\n",
      "|   cases deaths  | 915871.3474912976  | 957.0116757340517 |    2989   |    58.13087006037059    |\n",
      "+-----------------+--------------------+-------------------+-----------+-------------------------+\n"
     ]
    }
   ],
   "source": [
    "data_cases = PrettyTable()\n",
    "\n",
    "data_cases.field_names = [\"Tipo\", \"Variância de Dados\", \"Desvio Padrão\", \"Amplitude\", \"Coeficiente de Variação\"]\n",
    "data_cases.add_row([\"cases confirmed\",\n",
    "                 covid19_manaus['confirmed'].var(),\n",
    "                 covid19_manaus['confirmed'].std(),\n",
    "                 covid19_manaus['confirmed'].max()-covid19_manaus['confirmed'].min(),\n",
    "                 (covid19_manaus['confirmed'].std()/covid19_manaus['confirmed'].mean())*100\n",
    "                ])\n",
    "data_cases.add_row([\"cases deaths\",\n",
    "                 covid19_manaus['deaths'].var(),\n",
    "                 covid19_manaus['deaths'].std(),\n",
    "                 covid19_manaus['deaths'].max()-covid19_manaus['deaths'].min(),\n",
    "                 (covid19_manaus['deaths'].std()/covid19_manaus['deaths'].mean())*100\n",
    "                ])\n",
    "print(data_cases)"
   ]
  },
  {
   "cell_type": "markdown",
   "metadata": {},
   "source": [
    "<h3>4 - Gráficos</h3>"
   ]
  },
  {
   "cell_type": "markdown",
   "metadata": {},
   "source": [
    "<h3>4.1 - BoxPlot</h3>"
   ]
  },
  {
   "cell_type": "code",
   "execution_count": 32,
   "metadata": {},
   "outputs": [],
   "source": [
    "diq_confirmed = covid19_manaus['confirmed'].quantile(0.75) - covid19_manaus['confirmed'].quantile(0.25)\n",
    "discrepante_min_confirmed = covid19_manaus['confirmed'].quantile(0.25) - 1.5 * diq_confirmed \n",
    "discrepante_max_confirmed = covid19_manaus['confirmed'].quantile(0.75) + 1.5 * diq_confirmed \n",
    "\n",
    "diq_deaths = covid19_manaus['deaths'].quantile(0.75) - covid19_manaus['deaths'].quantile(0.25)\n",
    "discrepante_min_deaths = covid19_manaus['deaths'].quantile(0.25) - 1.5 * diq_deaths \n",
    "discrepante_max_deaths = covid19_manaus['deaths'].quantile(0.75) + 1.5 * diq_deaths "
   ]
  },
  {
   "cell_type": "code",
   "execution_count": 33,
   "metadata": {},
   "outputs": [
    {
     "name": "stdout",
     "output_type": "stream",
     "text": [
      "+-----------------+-------------------------+--------------------+--------------------+\n",
      "|       Tipo      | Amplitude Inter Quartil | Discrepante Mínimo | Discrepante Máximo |\n",
      "+-----------------+-------------------------+--------------------+--------------------+\n",
      "| cases confirmed |         35169.0         |      -42748.5      |      97927.5       |\n",
      "|   cases deaths  |          1521.5         |      -1378.25      |      4707.75       |\n",
      "+-----------------+-------------------------+--------------------+--------------------+\n"
     ]
    }
   ],
   "source": [
    "data_box = PrettyTable()\n",
    "data_box.field_names = [\"Tipo\",\"Amplitude Inter Quartil\", \"Discrepante Mínimo\", \"Discrepante Máximo\"]\n",
    "data_box.add_row([\"cases confirmed\", diq_confirmed, discrepante_min_confirmed, discrepante_max_confirmed])\n",
    "data_box.add_row([\"cases deaths\", diq_deaths, discrepante_min_deaths, discrepante_max_deaths])\n",
    "print(data_box)"
   ]
  },
  {
   "cell_type": "code",
   "execution_count": 34,
   "metadata": {},
   "outputs": [],
   "source": [
    "# Função reponsável por retornar TRUE caso encontre discrepante\n",
    "def exibirValoreDiscrepantes(valor, minimo, maximo):    \n",
    "    if valor >= minimo and valor <= maximo:\n",
    "        return False\n",
    "    else: \n",
    "        return True"
   ]
  },
  {
   "cell_type": "markdown",
   "metadata": {},
   "source": [
    "<h4> I - Casos confirmados</h4>"
   ]
  },
  {
   "cell_type": "code",
   "execution_count": 36,
   "metadata": {},
   "outputs": [],
   "source": [
    "# Se não retornar não tem valores discrepantes\n",
    "for index, row in covid19_manaus.iterrows():\n",
    "    if(exibirValoreDiscrepantes(row['confirmed'], discrepante_min_confirmed, discrepante_max_confirmed)):\n",
    "        print(row['confirmed'])"
   ]
  },
  {
   "cell_type": "markdown",
   "metadata": {},
   "source": [
    "<h4> II - Casos mortes</h4>"
   ]
  },
  {
   "cell_type": "code",
   "execution_count": 37,
   "metadata": {},
   "outputs": [],
   "source": [
    "# Se não retornar não tem valores discrepantes\n",
    "for index, row in covid19_manaus.iterrows():\n",
    "    if(exibirValoreDiscrepantes(row['deaths'], discrepante_min_deaths, discrepante_max_deaths)):\n",
    "        print(row['deaths'])"
   ]
  },
  {
   "cell_type": "code",
   "execution_count": 38,
   "metadata": {},
   "outputs": [
    {
     "data": {
      "image/png": "[encoded data removed]",
      "text/plain": [
       "<Figure size 432x288 with 1 Axes>"
      ]
     },
     "metadata": {
      "needs_background": "light"
     },
     "output_type": "display_data"
    }
   ],
   "source": [
    "# x = confirmed e y = deaths\n",
    "boxplot = covid19_manaus.boxplot(column=['confirmed','deaths'],fontsize=15)"
   ]
  },
  {
   "cell_type": "code",
   "execution_count": 39,
   "metadata": {},
   "outputs": [
    {
     "data": {
      "image/png": "[encoded data removed]",
      "text/plain": [
       "<Figure size 432x288 with 1 Axes>"
      ]
     },
     "metadata": {
      "needs_background": "light"
     },
     "output_type": "display_data"
    }
   ],
   "source": [
    "# x = deaths\n",
    "boxplot_death = covid19_manaus.boxplot(column=['deaths'],fontsize=15)"
   ]
  },
  {
   "cell_type": "markdown",
   "metadata": {},
   "source": [
    "<h3>4.2 - Bar Plot</h3>"
   ]
  },
  {
   "cell_type": "markdown",
   "metadata": {},
   "source": [
    "<h4>I - Casos confirmados</h4>"
   ]
  },
  {
   "cell_type": "code",
   "execution_count": 43,
   "metadata": {},
   "outputs": [
    {
     "data": {
      "text/plain": [
       "<matplotlib.axes._subplots.AxesSubplot at 0x7f972bd6c898>"
      ]
     },
     "execution_count": 43,
     "metadata": {},
     "output_type": "execute_result"
    },
    {
     "data": {
      "image/png": "[encoded data removed]",
      "text/plain": [
       "<Figure size 2880x1440 with 1 Axes>"
      ]
     },
     "metadata": {
      "needs_background": "light"
     },
     "output_type": "display_data"
    }
   ],
   "source": [
    "ax_confirmed = covid19_manaus.plot.bar(y='confirmed', x='date', legend='Nº Covid 19 em Manaus',rot=0, fontsize=15, figsize=[40,20])\n",
    "ax_confirmed"
   ]
  },
  {
   "cell_type": "markdown",
   "metadata": {},
   "source": [
    "<h4>II - Casos mortes</h4>"
   ]
  },
  {
   "cell_type": "code",
   "execution_count": 44,
   "metadata": {},
   "outputs": [
    {
     "data": {
      "text/plain": [
       "<matplotlib.axes._subplots.AxesSubplot at 0x7f972c952e10>"
      ]
     },
     "execution_count": 44,
     "metadata": {},
     "output_type": "execute_result"
    },
    {
     "data": {
      "image/png": "[encoded data removed]",
      "text/plain": [
       "<Figure size 2880x1440 with 1 Axes>"
      ]
     },
     "metadata": {
      "needs_background": "light"
     },
     "output_type": "display_data"
    }
   ],
   "source": [
    "ax_deaths = covid19_manaus.plot.bar(y='deaths', x='date', legend='Nº Covid 19 em Manaus',rot=0, fontsize=15, figsize=[40,20])\n",
    "ax_deaths"
   ]
  },
  {
   "cell_type": "code",
   "execution_count": null,
   "metadata": {},
   "outputs": [],
   "source": []
  }
 ],
 "metadata": {
  "kernelspec": {
   "display_name": "Python 3",
   "language": "python",
   "name": "python3"
  },
  "language_info": {
   "codemirror_mode": {
    "name": "ipython",
    "version": 3
   },
   "file_extension": ".py",
   "mimetype": "text/x-python",
   "name": "python",
   "nbconvert_exporter": "python",
   "pygments_lexer": "ipython3",
   "version": "3.6.9"
  }
 },
 "nbformat": 4,
 "nbformat_minor": 4
}
